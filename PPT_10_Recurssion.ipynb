{
 "cells": [
  {
   "cell_type": "markdown",
   "id": "d64e51d1-dfae-4e72-a86e-d8337ef3447c",
   "metadata": {},
   "source": [
    "#### Q. 1. Sum of digits on Number N"
   ]
  },
  {
   "cell_type": "code",
   "execution_count": 15,
   "id": "8824fa76-9343-441b-b9b4-e1c1cd99dda0",
   "metadata": {},
   "outputs": [
    {
     "name": "stdin",
     "output_type": "stream",
     "text": [
      "Enter the Number:  1002\n"
     ]
    },
    {
     "data": {
      "text/plain": [
       "3"
      ]
     },
     "execution_count": 15,
     "metadata": {},
     "output_type": "execute_result"
    }
   ],
   "source": [
    "def sum_of_digits(N):\n",
    "    if N == 0:\n",
    "        return 0\n",
    "    return N % 10 + sum_of_digits(N//10)\n",
    "\n",
    "N = int(input(\"Enter the Number: \"))\n",
    "sum_of_digits(N)"
   ]
  },
  {
   "cell_type": "markdown",
   "id": "93c7f5b7-17c6-47c7-9cc0-21e6abd02d1c",
   "metadata": {},
   "source": [
    "#### Q.2. GCD(a,b)"
   ]
  },
  {
   "cell_type": "code",
   "execution_count": 19,
   "id": "3ceb723a-4dab-4023-a799-b9b76fe48b7a",
   "metadata": {},
   "outputs": [
    {
     "name": "stdin",
     "output_type": "stream",
     "text": [
      " 2\n",
      " 3\n"
     ]
    },
    {
     "data": {
      "text/plain": [
       "1"
      ]
     },
     "execution_count": 19,
     "metadata": {},
     "output_type": "execute_result"
    }
   ],
   "source": [
    "def GCD(a,b):\n",
    "    if b == 0:\n",
    "        return a\n",
    "    return GCD(b, a % b)\n",
    "\n",
    "a = int(input())\n",
    "b = int(input())\n",
    "GCD(a,b)"
   ]
  },
  {
   "cell_type": "markdown",
   "id": "5cad17c5-68b5-48b9-bde6-55859f89a07e",
   "metadata": {},
   "source": [
    "#### Q. 3. Sum of Subsets of an array"
   ]
  },
  {
   "cell_type": "code",
   "execution_count": 20,
   "id": "edc14e83-5c43-4692-9e8c-1ec2f3c21893",
   "metadata": {},
   "outputs": [
    {
     "name": "stdout",
     "output_type": "stream",
     "text": [
      "24\n"
     ]
    }
   ],
   "source": [
    "def subsetSum(arr):\n",
    "    def subsetSumHelper(arr, index, current_sum):\n",
    "        if index == len(arr):\n",
    "            return current_sum\n",
    "\n",
    "        include = subsetSumHelper(arr, index + 1, current_sum + arr[index])\n",
    "        exclude = subsetSumHelper(arr, index + 1, current_sum)\n",
    "        return include + exclude\n",
    "\n",
    "    return subsetSumHelper(arr, 0, 0)\n",
    "\n",
    "\n",
    "arr = [1, 2, 3]\n",
    "result = subsetSum(arr)\n",
    "print(result)    "
   ]
  },
  {
   "cell_type": "code",
   "execution_count": null,
   "id": "ae2c63af-a393-41e3-aa6c-e1b60d6997dc",
   "metadata": {},
   "outputs": [],
   "source": []
  }
 ],
 "metadata": {
  "kernelspec": {
   "display_name": "Python 3 (ipykernel)",
   "language": "python",
   "name": "python3"
  },
  "language_info": {
   "codemirror_mode": {
    "name": "ipython",
    "version": 3
   },
   "file_extension": ".py",
   "mimetype": "text/x-python",
   "name": "python",
   "nbconvert_exporter": "python",
   "pygments_lexer": "ipython3",
   "version": "3.10.6"
  }
 },
 "nbformat": 4,
 "nbformat_minor": 5
}
