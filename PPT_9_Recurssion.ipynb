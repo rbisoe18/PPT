{
 "cells": [
  {
   "cell_type": "markdown",
   "id": "6ae0c2f7-c2ed-4d37-90d6-44e794f5bb8f",
   "metadata": {},
   "source": [
    "#### Q. 1. sum of n"
   ]
  },
  {
   "cell_type": "code",
   "execution_count": 3,
   "id": "500ded55-b134-4a8a-935a-8761284ce74f",
   "metadata": {},
   "outputs": [
    {
     "name": "stdout",
     "output_type": "stream",
     "text": [
      "The sum of the first 5 natural numbers is: 15\n"
     ]
    }
   ],
   "source": [
    "def sum_of_n(n):\n",
    "    if n == 1:\n",
    "        return 1\n",
    "    else:\n",
    "        return n + sum_of_n(n-1)\n",
    "n = 5\n",
    "result = sum_of_n(n)\n",
    "print(f\"The sum of the first {n} natural numbers is: {result}\")"
   ]
  },
  {
   "cell_type": "markdown",
   "id": "d5ec27a1-342a-40d1-9acb-bd0f07758759",
   "metadata": {},
   "source": [
    "#### Q. 2 Fibonacci Series"
   ]
  },
  {
   "cell_type": "code",
   "execution_count": 12,
   "id": "0ff80ffb-8c0f-4011-9781-8338fa5441ec",
   "metadata": {},
   "outputs": [
    {
     "name": "stdin",
     "output_type": "stream",
     "text": [
      "Enter the number: 4\n"
     ]
    },
    {
     "name": "stdout",
     "output_type": "stream",
     "text": [
      "[0, 1, 1, 2]\n"
     ]
    }
   ],
   "source": [
    "def fibbo(n):\n",
    "    if n <= 0:\n",
    "        return []\n",
    "    elif n == 1:\n",
    "        return [0]\n",
    "    elif n == 2:\n",
    "        return [0,1]\n",
    "    else:\n",
    "        fibbo_seq = fibbo(n-1)\n",
    "        fibbo_seq.append(fibbo_seq[-1] + fibbo_seq[-2])\n",
    "        return fibbo_seq\n",
    "n = int(input(\"Enter the number:\"))\n",
    "result = fibbo(n)\n",
    "print(result)\n",
    "    "
   ]
  },
  {
   "cell_type": "markdown",
   "id": "907f7d55-cace-4650-a595-cf354c4c66ba",
   "metadata": {},
   "source": [
    "#### Q.3 Power of 4"
   ]
  },
  {
   "cell_type": "code",
   "execution_count": 30,
   "id": "280c1515-9e63-44e5-bd2f-76626c73c581",
   "metadata": {},
   "outputs": [
    {
     "name": "stdin",
     "output_type": "stream",
     "text": [
      "Enter a number:  16\n"
     ]
    },
    {
     "name": "stdout",
     "output_type": "stream",
     "text": [
      "16 is a power of 4\n"
     ]
    }
   ],
   "source": [
    "def is_power_of_four(n):\n",
    "    if n == 1:\n",
    "        return True\n",
    "    elif n < 4:\n",
    "        return False\n",
    "    else:\n",
    "        return is_power_of_four(n / 4)\n",
    "\n",
    "num = int(input(\"Enter a number: \"))\n",
    "result = is_power_of_four(num)\n",
    "if result:\n",
    "    print(num, \"is a power of 4\")\n",
    "else:\n",
    "    print(num, \"is not a power of 4\")\n"
   ]
  },
  {
   "cell_type": "markdown",
   "id": "80c08b5c-3b1f-4c46-8072-e867ee7dfcbd",
   "metadata": {},
   "source": [
    "#### Q. 4."
   ]
  },
  {
   "cell_type": "code",
   "execution_count": 31,
   "id": "8d9a7daf-f3c9-452c-a678-9e1e20dae212",
   "metadata": {},
   "outputs": [
    {
     "data": {
      "text/plain": [
       "24"
      ]
     },
     "execution_count": 31,
     "metadata": {},
     "output_type": "execute_result"
    }
   ],
   "source": [
    "def factorials(n):\n",
    "    if n == 1 or n == 0:\n",
    "        return 1\n",
    "    else:\n",
    "        return n * factorials(n-1)\n",
    "    \n",
    "factorials(4)"
   ]
  },
  {
   "cell_type": "code",
   "execution_count": null,
   "id": "9bce966d-c133-46dd-9e8d-9b0c760ba9cc",
   "metadata": {},
   "outputs": [],
   "source": []
  }
 ],
 "metadata": {
  "kernelspec": {
   "display_name": "Python 3 (ipykernel)",
   "language": "python",
   "name": "python3"
  },
  "language_info": {
   "codemirror_mode": {
    "name": "ipython",
    "version": 3
   },
   "file_extension": ".py",
   "mimetype": "text/x-python",
   "name": "python",
   "nbconvert_exporter": "python",
   "pygments_lexer": "ipython3",
   "version": "3.10.6"
  }
 },
 "nbformat": 4,
 "nbformat_minor": 5
}
