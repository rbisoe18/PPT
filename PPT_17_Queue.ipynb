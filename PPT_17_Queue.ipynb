{
 "cells": [
  {
   "cell_type": "markdown",
   "id": "f9a1fcb7-db74-4376-875a-380a7949ab78",
   "metadata": {},
   "source": [
    "#### Q.1"
   ]
  },
  {
   "cell_type": "code",
   "execution_count": 3,
   "id": "59889c27-dd82-4f02-b06e-58945e27dbfa",
   "metadata": {},
   "outputs": [
    {
     "name": "stdout",
     "output_type": "stream",
     "text": [
      "6\n",
      "8\n"
     ]
    }
   ],
   "source": [
    "def timeToBuyTickets(tickets, k):\n",
    "    n = len(tickets)\n",
    "    time = 0\n",
    "\n",
    "    while True:\n",
    "        for i in range(n):\n",
    "            if tickets[i] > 0:\n",
    "                tickets[i] -= 1\n",
    "                time += 1\n",
    "                if i == k and tickets[i] == 0:\n",
    "                    return time\n",
    "\n",
    "print(timeToBuyTickets([2, 3, 2], 2))\n",
    "print(timeToBuyTickets([5, 1, 1, 1], 0))\n"
   ]
  },
  {
   "cell_type": "markdown",
   "id": "ec8c72bb-9720-4116-8970-a8299f95ad01",
   "metadata": {},
   "source": [
    "#### Q.2"
   ]
  },
  {
   "cell_type": "code",
   "execution_count": 5,
   "id": "12b7e185-419f-4eab-a86e-f9d49a78483d",
   "metadata": {},
   "outputs": [
    {
     "name": "stdout",
     "output_type": "stream",
     "text": [
      "20\n",
      "40\n",
      "0\n",
      "32\n"
     ]
    }
   ],
   "source": [
    "class ProductOfNumbers:\n",
    "    def __init__(self):\n",
    "        self.products = [1]\n",
    "\n",
    "    def add(self, num):\n",
    "        if num == 0:\n",
    "            self.products = [1]\n",
    "        else:\n",
    "            self.products.append(self.products[-1] * num)\n",
    "\n",
    "    def getProduct(self, k):\n",
    "        if k >= len(self.products):\n",
    "            return 0\n",
    "        else:\n",
    "            return self.products[-1] // self.products[-k - 1]\n",
    "productOfNumbers = ProductOfNumbers()\n",
    "productOfNumbers.add(3)\n",
    "productOfNumbers.add(0)\n",
    "productOfNumbers.add(2)\n",
    "productOfNumbers.add(5)\n",
    "productOfNumbers.add(4)\n",
    "print(productOfNumbers.getProduct(2))  # Output: 20\n",
    "print(productOfNumbers.getProduct(3))  # Output: 40\n",
    "print(productOfNumbers.getProduct(4))  # Output: 0\n",
    "productOfNumbers.add(8)\n",
    "print(productOfNumbers.getProduct(2))  # Output: 32\n"
   ]
  },
  {
   "cell_type": "code",
   "execution_count": null,
   "id": "75874eb4-9eef-463a-b705-254b581db5ee",
   "metadata": {},
   "outputs": [],
   "source": []
  }
 ],
 "metadata": {
  "kernelspec": {
   "display_name": "Python 3 (ipykernel)",
   "language": "python",
   "name": "python3"
  },
  "language_info": {
   "codemirror_mode": {
    "name": "ipython",
    "version": 3
   },
   "file_extension": ".py",
   "mimetype": "text/x-python",
   "name": "python",
   "nbconvert_exporter": "python",
   "pygments_lexer": "ipython3",
   "version": "3.10.6"
  }
 },
 "nbformat": 4,
 "nbformat_minor": 5
}
