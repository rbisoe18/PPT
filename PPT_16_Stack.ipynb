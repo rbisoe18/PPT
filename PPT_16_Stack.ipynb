{
 "cells": [
  {
   "cell_type": "markdown",
   "id": "1071c082-c257-4a57-80c4-c8d227fee2e0",
   "metadata": {},
   "source": [
    "#### Q.1"
   ]
  },
  {
   "cell_type": "code",
   "execution_count": 4,
   "id": "a0a7d4bd-8986-42dd-b521-6c6b6a75a7ef",
   "metadata": {},
   "outputs": [
    {
     "name": "stdout",
     "output_type": "stream",
     "text": [
      "2\n",
      "2\n",
      "False\n"
     ]
    }
   ],
   "source": [
    "from collections import deque\n",
    "\n",
    "class MyStack:\n",
    "    def __init__(self):\n",
    "        self.queue1 = deque()\n",
    "        self.queue2 = deque()\n",
    "\n",
    "    def push(self, x):\n",
    "        # Move all elements from queue1 to queue2\n",
    "        while self.queue1:\n",
    "            self.queue2.append(self.queue1.popleft())\n",
    "        # Add the new element to the empty queue1\n",
    "        self.queue1.append(x)\n",
    "        # Move all elements back to queue1\n",
    "        while self.queue2:\n",
    "            self.queue1.append(self.queue2.popleft())\n",
    "\n",
    "    def pop(self):\n",
    "        # Pop the top element from queue1\n",
    "        return self.queue1.popleft()\n",
    "\n",
    "    def top(self):\n",
    "        # Return the top element from queue1 without removing it\n",
    "        return self.queue1[0]\n",
    "\n",
    "    def empty(self):\n",
    "        # Check if queue1 is empty\n",
    "        return len(self.queue1) == 0\n",
    "\n",
    "myStack = MyStack()\n",
    "myStack.push(1)\n",
    "myStack.push(2)\n",
    "print(myStack.top())  # Output: 2\n",
    "print(myStack.pop())  # Output: 2\n",
    "print(myStack.empty())  # Output: False\n"
   ]
  },
  {
   "cell_type": "markdown",
   "id": "8c7b5606-0346-49fa-890f-ab3a325d3cff",
   "metadata": {},
   "source": [
    "#### Q.2"
   ]
  },
  {
   "cell_type": "code",
   "execution_count": 6,
   "id": "030500bd-476f-40eb-9199-c1f3397c9553",
   "metadata": {},
   "outputs": [
    {
     "name": "stdout",
     "output_type": "stream",
     "text": [
      "1\n",
      "1\n",
      "False\n"
     ]
    }
   ],
   "source": [
    "class MyQueue:\n",
    "    def __init__(self):\n",
    "        self.stack1 = []\n",
    "        self.stack2 = []\n",
    "\n",
    "    def push(self, x):\n",
    "        # Move all elements from stack1 to stack2\n",
    "        while self.stack1:\n",
    "            self.stack2.append(self.stack1.pop())\n",
    "        # Add the new element to the empty stack1\n",
    "        self.stack1.append(x)\n",
    "        # Move all elements back to stack1\n",
    "        while self.stack2:\n",
    "            self.stack1.append(self.stack2.pop())\n",
    "\n",
    "    def pop(self):\n",
    "        # Pop the top element from stack1\n",
    "        return self.stack1.pop()\n",
    "\n",
    "    def peek(self):\n",
    "        # Return the top element from stack1 without removing it\n",
    "        return self.stack1[-1]\n",
    "\n",
    "    def empty(self):\n",
    "        # Check if stack1 is empty\n",
    "        return len(self.stack1) == 0\n",
    "\n",
    "myQueue = MyQueue()\n",
    "myQueue.push(1)\n",
    "myQueue.push(2)\n",
    "print(myQueue.peek())  # Output: 1\n",
    "print(myQueue.pop())  # Output: 1\n",
    "print(myQueue.empty())  # Output: False\n"
   ]
  },
  {
   "cell_type": "markdown",
   "id": "35c254aa-5fb4-4e3f-a58e-283eeeb301ec",
   "metadata": {},
   "source": [
    "#### Q.3"
   ]
  },
  {
   "cell_type": "code",
   "execution_count": 2,
   "id": "aaf8b17b-4793-490e-8ebf-cb11c8223ff3",
   "metadata": {},
   "outputs": [
    {
     "name": "stdout",
     "output_type": "stream",
     "text": [
      "1\n",
      "1\n",
      "1\n",
      "2\n",
      "1\n",
      "4\n",
      "6\n"
     ]
    }
   ],
   "source": [
    "class StockSpanner:\n",
    "    def __init__(self):\n",
    "        self.stack = []\n",
    "\n",
    "    def next(self, price):\n",
    "        span = 1\n",
    "\n",
    "        while self.stack and self.stack[-1][0] <= price:\n",
    "            _, prev_span = self.stack.pop()\n",
    "            span += prev_span\n",
    "\n",
    "        self.stack.append((price, span))\n",
    "\n",
    "        return span\n",
    "stockSpanner = StockSpanner()\n",
    "print(stockSpanner.next(100))  # Output: 1\n",
    "print(stockSpanner.next(80))   # Output: 1\n",
    "print(stockSpanner.next(60))   # Output: 1\n",
    "print(stockSpanner.next(70))   # Output: 2\n",
    "print(stockSpanner.next(60))   # Output: 1\n",
    "print(stockSpanner.next(75))   # Output: 4\n",
    "print(stockSpanner.next(85))   # Output: 6\n"
   ]
  },
  {
   "cell_type": "code",
   "execution_count": null,
   "id": "be174a89-a01b-4dd4-a724-1b3fd32c0c89",
   "metadata": {},
   "outputs": [],
   "source": []
  }
 ],
 "metadata": {
  "kernelspec": {
   "display_name": "Python 3 (ipykernel)",
   "language": "python",
   "name": "python3"
  },
  "language_info": {
   "codemirror_mode": {
    "name": "ipython",
    "version": 3
   },
   "file_extension": ".py",
   "mimetype": "text/x-python",
   "name": "python",
   "nbconvert_exporter": "python",
   "pygments_lexer": "ipython3",
   "version": "3.10.6"
  }
 },
 "nbformat": 4,
 "nbformat_minor": 5
}
