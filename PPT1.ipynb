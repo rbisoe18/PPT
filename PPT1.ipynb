{
 "cells": [
  {
   "cell_type": "markdown",
   "id": "69529d04-2295-47c0-9342-9ab827bf8e65",
   "metadata": {},
   "source": [
    "### Q. 1. Given an array of size N. The task is to find the max and min element of the array using the min num of comparision."
   ]
  },
  {
   "cell_type": "code",
   "execution_count": 3,
   "id": "dce6afd9-1a33-4f5f-9b77-c08e6eb7a60b",
   "metadata": {},
   "outputs": [
    {
     "name": "stdout",
     "output_type": "stream",
     "text": [
      "max value is :9\n",
      "max value is :5\n"
     ]
    }
   ],
   "source": [
    "arr = [3,5,4,1,9]\n",
    "arr.sort()\n",
    "arr\n",
    "\n",
    "max = 0\n",
    "for i in range(len(arr)):\n",
    "    arr[i] > max\n",
    "    max = arr[i]\n",
    "print(f\"max value is :{max}\")\n",
    "\n",
    "min = 0\n",
    "for i in range(len(arr)):\n",
    "    arr[i-1] < min\n",
    "    min = arr[i-1]\n",
    "print(f\"max value is :{arr[i-1]}\")"
   ]
  },
  {
   "cell_type": "markdown",
   "id": "96905984-17a6-4d17-af03-cda88933f5c6",
   "metadata": {},
   "source": [
    "#### Q. 2. "
   ]
  },
  {
   "cell_type": "code",
   "execution_count": 5,
   "id": "ee1205dc-bdef-4fc7-98ff-7fa2d8c6b34a",
   "metadata": {},
   "outputs": [],
   "source": [
    "def max_profitt(prices):\n",
    "    max_profit = 0\n",
    "    min_value = prices[0]\n",
    "    for price in prices:\n",
    "        if price < min_value:\n",
    "            min_value = price\n",
    "            print(f\"min value is: {min_value}\")\n",
    "            \n",
    "        else:\n",
    "               max_profit = max(max_profit, price - min_value)\n",
    "\n",
    "    return f\"max profit is :{max_profit}\"\n"
   ]
  },
  {
   "cell_type": "code",
   "execution_count": 6,
   "id": "2587d501-e0a7-470e-98e0-8aee943728bd",
   "metadata": {},
   "outputs": [
    {
     "name": "stdout",
     "output_type": "stream",
     "text": [
      "min value is: 1\n",
      "max profit is :5\n"
     ]
    }
   ],
   "source": [
    "result = max_profitt([7, 1, 5, 3, 6, 4])\n",
    "print(result)  # Output: 5"
   ]
  },
  {
   "cell_type": "markdown",
   "id": "2621538f-86e9-4196-ad2c-343b94bb847f",
   "metadata": {},
   "source": [
    "#### 3."
   ]
  },
  {
   "cell_type": "code",
   "execution_count": 10,
   "id": "2117cf89-75a9-408c-8053-0315305d4cdf",
   "metadata": {},
   "outputs": [],
   "source": [
    "def pro(nums):\n",
    "    \n",
    "    max_till_now = nums[0]\n",
    "    curr_max = curr_min = max_till_now\n",
    "\n",
    "    for i in range(1,len(nums)):\n",
    "        if nums[i] < 0:\n",
    "            curr_max, curr_min = curr_min, curr_max\n",
    "            \n",
    "        curr_max = max(nums[i], curr_max * nums[i])\n",
    "        curr_min = min(nums[i], curr_min * nums[i])\n",
    "        \n",
    "        max_till_now = max(max_till_now,curr_max)\n",
    "    \n",
    "    print(f\"max so far :{curr_max}\")\n",
    "    print(f\"min so far :{curr_min}\")\n",
    "          \n",
    "    return f\"max so far : {max_till_now}\""
   ]
  },
  {
   "cell_type": "code",
   "execution_count": 11,
   "id": "92c3dc23-08c3-461c-9c11-88bbe7b6a53b",
   "metadata": {},
   "outputs": [
    {
     "name": "stdout",
     "output_type": "stream",
     "text": [
      "max so far :4\n",
      "min so far :-48\n",
      "max so far : 6\n"
     ]
    }
   ],
   "source": [
    "output = pro([2, 3, -2, 4])\n",
    "print(output)"
   ]
  },
  {
   "cell_type": "markdown",
   "id": "fa54f1f6-925b-418d-9326-650e44be5ce3",
   "metadata": {},
   "source": [
    "### Q.4."
   ]
  },
  {
   "cell_type": "code",
   "execution_count": 14,
   "id": "e5e4085f-8cd4-46d6-b0e3-d5e0c4a3eddf",
   "metadata": {},
   "outputs": [
    {
     "data": {
      "text/plain": [
       "[[-1, -1, 2], [-1, 0, 1]]"
      ]
     },
     "execution_count": 14,
     "metadata": {},
     "output_type": "execute_result"
    }
   ],
   "source": [
    "def find_triplets(nums):\n",
    "    triplets = []\n",
    "    nums.sort()  # Sort the array in ascending order\n",
    "\n",
    "    for i in range(len(nums) - 2):\n",
    "        if i > 0 and nums[i] == nums[i - 1]:\n",
    "            continue  # Skip duplicates of the first element\n",
    "\n",
    "        left = i + 1\n",
    "        right = len(nums) - 1\n",
    "\n",
    "        while left < right:\n",
    "            total = nums[i] + nums[left] + nums[right]\n",
    "\n",
    "            if total == 0:\n",
    "                triplets.append([nums[i], nums[left], nums[right]])\n",
    "\n",
    "                # Skip duplicates of the second and third elements\n",
    "                while left < right and nums[left] == nums[left + 1]:\n",
    "                    left += 1\n",
    "                while left < right and nums[right] == nums[right - 1]:\n",
    "                    right -= 1\n",
    "\n",
    "                left += 1\n",
    "                right -= 1\n",
    "            elif total < 0:\n",
    "                left += 1\n",
    "            else:\n",
    "                right -= 1\n",
    "\n",
    "    return triplets\n",
    "\n",
    "find_triplets([-1, 0, 1, 2, -1, -4])"
   ]
  },
  {
   "cell_type": "markdown",
   "id": "c41d5a4a-620c-43e1-b3ec-5744d0aeb9b8",
   "metadata": {},
   "source": [
    "#### Q. 5."
   ]
  },
  {
   "cell_type": "code",
   "execution_count": 4,
   "id": "cc0e46d3-cbc4-43d3-b11c-c6f27bf9e149",
   "metadata": {},
   "outputs": [
    {
     "name": "stdout",
     "output_type": "stream",
     "text": [
      "The 2th largest element in the array is: 5\n"
     ]
    }
   ],
   "source": [
    "import heapq\n",
    "\n",
    "def findKthLargest(nums, k):\n",
    "    # Create a min-heap with size k\n",
    "    heap = []\n",
    "    for num in nums:\n",
    "        # Push the current number into the heap\n",
    "        heapq.heappush(heap, num)\n",
    "        # If the heap size exceeds k, remove the smallest element\n",
    "        if len(heap) > k:\n",
    "            heapq.heappop(heap)\n",
    "    \n",
    "    # The kth largest element will be at the top of the heap\n",
    "    return heap[0]\n",
    "\n",
    "# Example usage\n",
    "nums = [3, 2, 1, 5, 6, 4]\n",
    "k = 2\n",
    "kth_largest = findKthLargest(nums, k)\n",
    "print(f\"The {k}th largest element in the array is: {kth_largest}\")\n",
    "\n",
    "        "
   ]
  },
  {
   "cell_type": "code",
   "execution_count": null,
   "id": "f88f79b2-e4ce-4fb2-b5c2-d3684e569e2f",
   "metadata": {},
   "outputs": [],
   "source": []
  }
 ],
 "metadata": {
  "kernelspec": {
   "display_name": "Python 3 (ipykernel)",
   "language": "python",
   "name": "python3"
  },
  "language_info": {
   "codemirror_mode": {
    "name": "ipython",
    "version": 3
   },
   "file_extension": ".py",
   "mimetype": "text/x-python",
   "name": "python",
   "nbconvert_exporter": "python",
   "pygments_lexer": "ipython3",
   "version": "3.10.6"
  }
 },
 "nbformat": 4,
 "nbformat_minor": 5
}
