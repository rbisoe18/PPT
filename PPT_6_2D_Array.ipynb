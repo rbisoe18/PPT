{
 "cells": [
  {
   "cell_type": "markdown",
   "id": "c6563139-cd45-4c6d-85f1-111c6b6bd0e5",
   "metadata": {},
   "source": [
    "#### Q.1."
   ]
  },
  {
   "cell_type": "code",
   "execution_count": 3,
   "id": "826afacd-35e4-4166-a6a7-95331aadb062",
   "metadata": {},
   "outputs": [],
   "source": [
    "def setZeroes(matrix):\n",
    "    isCol = False\n",
    "    R = len(matrix)\n",
    "    C = len(matrix[0])\n",
    "\n",
    "    for i in range(R):\n",
    "        if matrix[i][0] == 0:\n",
    "            isCol = True\n",
    "\n",
    "        for j in range(1, C):\n",
    "            if matrix[i][j] == 0:\n",
    "                matrix[0][j] = 0\n",
    "                matrix[i][0] = 0\n",
    "\n",
    "    for i in range(1, R):\n",
    "        for j in range(1, C):\n",
    "            if matrix[i][0] == 0 or matrix[0][j] == 0:\n",
    "                matrix[i][j] = 0\n",
    "\n",
    "    if matrix[0][0] == 0:\n",
    "        for j in range(C):\n",
    "            matrix[0][j] = 0\n",
    "\n",
    "    if isCol:\n",
    "        for i in range(R):\n",
    "            matrix[i][0] = 0  \n",
    "matrix = [[1,1,1],[1,0,1],[1,1,1]]\n",
    "setZeroes(matrix)"
   ]
  },
  {
   "cell_type": "markdown",
   "id": "7b51bbfb-ea5c-45a4-bd3b-7e7520f3205e",
   "metadata": {},
   "source": [
    "#### OR"
   ]
  },
  {
   "cell_type": "code",
   "execution_count": 10,
   "id": "747ec4e7-78f1-4b47-b9fe-054c8454ff25",
   "metadata": {},
   "outputs": [
    {
     "name": "stdout",
     "output_type": "stream",
     "text": [
      "[[1, 0, 1], [0, 0, 0], [1, 0, 1]]\n"
     ]
    }
   ],
   "source": [
    "def setZeroes(matrix):\n",
    "    rows = set()\n",
    "    cols = set()\n",
    "\n",
    "    # Step 1: Mark rows and columns to be zeroed out\n",
    "    for i in range(len(matrix)):\n",
    "        for j in range(len(matrix[0])):\n",
    "            if matrix[i][j] == 0:\n",
    "                rows.add(i)\n",
    "                cols.add(j)\n",
    "\n",
    "    # Step 2: Set corresponding elements to zero\n",
    "    for i in range(len(matrix)):\n",
    "        for j in range(len(matrix[0])):\n",
    "            if i in rows or j in cols:\n",
    "                matrix[i][j] = 0\n",
    "\n",
    "    return matrix\n",
    "\n",
    "matrix = [[1, 1, 1], [1, 0, 1], [1, 1, 1]]\n",
    "result = setZeroes(matrix)\n",
    "print(result)\n"
   ]
  },
  {
   "cell_type": "markdown",
   "id": "ee74d23a-0b1b-47b9-8b66-07885fac559d",
   "metadata": {},
   "source": [
    "#### Q.2."
   ]
  },
  {
   "cell_type": "code",
   "execution_count": 4,
   "id": "32ee314e-bd92-4ed6-a78f-85fdf60862f6",
   "metadata": {},
   "outputs": [
    {
     "data": {
      "text/plain": [
       "[[1, 2, 3, 4]]"
      ]
     },
     "execution_count": 4,
     "metadata": {},
     "output_type": "execute_result"
    }
   ],
   "source": [
    "from collections import deque\n",
    "\n",
    "def matrixReshape(nums, r, c):\n",
    "    res = [[0] * c for _ in range(r)]\n",
    "    if len(nums) == 0 or r * c != len(nums) * len(nums[0]):\n",
    "        return nums\n",
    "    queue = deque()\n",
    "    for i in range(len(nums)):\n",
    "        for j in range(len(nums[0])):\n",
    "            queue.append(nums[i][j])\n",
    "    for i in range(r):\n",
    "        for j in range(c):\n",
    "            res[i][j] = queue.popleft()\n",
    "    return res\n",
    "\n",
    "nums =  [[1,2],[3,4]]\n",
    "r = 1\n",
    "c = 4\n",
    "matrixReshape(nums, r, c)"
   ]
  },
  {
   "cell_type": "markdown",
   "id": "98dc7cec-94ef-4340-9caa-26e21b774b68",
   "metadata": {},
   "source": [
    "#### Q.3."
   ]
  },
  {
   "cell_type": "code",
   "execution_count": 20,
   "id": "1ddbd8db-fc0c-407e-b10c-99c4a1240e87",
   "metadata": {},
   "outputs": [
    {
     "data": {
      "text/plain": [
       "[[1, 0, 0], [0, 1, 0], [1, 1, 1]]"
      ]
     },
     "execution_count": 20,
     "metadata": {},
     "output_type": "execute_result"
    }
   ],
   "source": [
    "def flipAndInvertImage(A):\n",
    "    C = len(A[0])\n",
    "    for row in A:\n",
    "        for i in range((C + 1) // 2):\n",
    "            tmp = row[i] ^ 1\n",
    "            row[i] = row[C - 1 - i] ^ 1\n",
    "            row[C - 1 - i] = tmp\n",
    "    return A\n",
    "\n",
    "A =  [[1,1,0],[1,0,1],[0,0,0]]\n",
    "flipAndInvertImage(A)"
   ]
  },
  {
   "cell_type": "code",
   "execution_count": null,
   "id": "0283bdb6-2a37-4e61-ad81-0e8a36227651",
   "metadata": {},
   "outputs": [],
   "source": []
  }
 ],
 "metadata": {
  "kernelspec": {
   "display_name": "Python 3 (ipykernel)",
   "language": "python",
   "name": "python3"
  },
  "language_info": {
   "codemirror_mode": {
    "name": "ipython",
    "version": 3
   },
   "file_extension": ".py",
   "mimetype": "text/x-python",
   "name": "python",
   "nbconvert_exporter": "python",
   "pygments_lexer": "ipython3",
   "version": "3.10.6"
  }
 },
 "nbformat": 4,
 "nbformat_minor": 5
}
