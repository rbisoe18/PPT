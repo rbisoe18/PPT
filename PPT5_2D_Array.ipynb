{
 "cells": [
  {
   "cell_type": "markdown",
   "id": "37745059-6221-498d-bf91-15661cc53b10",
   "metadata": {},
   "source": [
    "#### Q.1."
   ]
  },
  {
   "cell_type": "code",
   "execution_count": 1,
   "id": "8b3dbbe0-dbea-4db9-bc41-64850465bb9e",
   "metadata": {},
   "outputs": [
    {
     "data": {
      "text/plain": [
       "True"
      ]
     },
     "execution_count": 1,
     "metadata": {},
     "output_type": "execute_result"
    }
   ],
   "source": [
    "def isToeplitzMatrix(matrix):\n",
    "    for r in range(len(matrix)):\n",
    "        for c in range(len(matrix[0])):\n",
    "            if r > 0 and c > 0 and matrix[r-1][c-1] != matrix[r][c]:\n",
    "                return False\n",
    "    return True\n",
    "\n",
    "matrix = [[1,2,3,4],[5,1,2,3],[9,5,1,2]]\n",
    "isToeplitzMatrix(matrix)"
   ]
  },
  {
   "cell_type": "markdown",
   "id": "a450615a-bcae-4438-90b3-2a1e66a7f477",
   "metadata": {},
   "source": [
    "#### Q. 2."
   ]
  },
  {
   "cell_type": "code",
   "execution_count": 4,
   "id": "988971a4-6aba-4726-becd-dea7764cd52d",
   "metadata": {},
   "outputs": [
    {
     "name": "stdout",
     "output_type": "stream",
     "text": [
      "[[1, 4, 7], [2, 5, 8], [3, 6, 9]]\n"
     ]
    }
   ],
   "source": [
    "def transpose(A):\n",
    "    R = len(A)\n",
    "    C = len(A[0])\n",
    "    ans = [[0 for _ in range(R)] for _ in range(C)]\n",
    "    for r in range(R):\n",
    "        for c in range(C):\n",
    "            ans[c][r] = A[r][c]\n",
    "    return ans\n",
    "A = [[1, 2, 3], [4, 5, 6], [7, 8, 9]]\n",
    "result = transpose(A)\n",
    "print(result)"
   ]
  },
  {
   "cell_type": "markdown",
   "id": "7329e3b3-60b6-4ae0-9c12-0b694c99daf9",
   "metadata": {},
   "source": [
    "#### Q. 3."
   ]
  },
  {
   "cell_type": "code",
   "execution_count": 9,
   "id": "e419ed4d-e3f3-45b9-a14c-0a3c4fa9da39",
   "metadata": {},
   "outputs": [
    {
     "name": "stdout",
     "output_type": "stream",
     "text": [
      "[[7, 4, 1], [8, 5, 2], [9, 6, 3]]\n"
     ]
    }
   ],
   "source": [
    "def rotate(matrix):\n",
    "    n = len(matrix)\n",
    "    for layer in range(n // 2):\n",
    "        first = layer\n",
    "        last = n - layer - 1\n",
    "\n",
    "        for i in range(first, last):\n",
    "            offset = i - first\n",
    "\n",
    "            top = matrix[first][i]\n",
    "\n",
    "            matrix[first][i] = matrix[last - offset][first]\n",
    "\n",
    "            matrix[last - offset][first] = matrix[last][last - offset]\n",
    "\n",
    "            matrix[last][last - offset] = matrix[i][last]\n",
    "\n",
    "            matrix[i][last] = top\n",
    "\n",
    "\n",
    "matrix = [\n",
    "    [1, 2, 3],\n",
    "    [4, 5, 6],\n",
    "    [7, 8, 9]\n",
    "]\n",
    "rotate(matrix)\n",
    "print(matrix)\n"
   ]
  },
  {
   "cell_type": "markdown",
   "id": "88cb7847-df54-480b-9d86-550e3ae912da",
   "metadata": {},
   "source": [
    "#### Q.4."
   ]
  },
  {
   "cell_type": "code",
   "execution_count": 10,
   "id": "76c0e741-c65a-4e6c-93b1-3fb11f887b59",
   "metadata": {},
   "outputs": [
    {
     "name": "stdout",
     "output_type": "stream",
     "text": [
      "2\n"
     ]
    }
   ],
   "source": [
    "def findShortestSubArray(nums):\n",
    "    count = {}\n",
    "    left = {}\n",
    "    right = {}\n",
    "    max_count = 0\n",
    "\n",
    "    for i, num in enumerate(nums):\n",
    "        if num not in left:\n",
    "            left[num] = i\n",
    "        right[num] = i\n",
    "        count[num] = count.get(num, 0) + 1\n",
    "        max_count = max(max_count, count[num])\n",
    "\n",
    "    min_length = float('inf')\n",
    "\n",
    "    for num in count:\n",
    "        if count[num] == max_count:\n",
    "            length = right[num] - left[num] + 1\n",
    "            min_length = min(min_length, length)\n",
    "\n",
    "    return min_length\n",
    "\n",
    "nums = [1, 2, 2, 3, 1]\n",
    "result = findShortestSubArray(nums)\n",
    "print(result)  # Output: 2\n"
   ]
  },
  {
   "cell_type": "code",
   "execution_count": null,
   "id": "452f81ad-4d09-4d28-bf5f-1483c733571d",
   "metadata": {},
   "outputs": [],
   "source": []
  }
 ],
 "metadata": {
  "kernelspec": {
   "display_name": "Python 3 (ipykernel)",
   "language": "python",
   "name": "python3"
  },
  "language_info": {
   "codemirror_mode": {
    "name": "ipython",
    "version": 3
   },
   "file_extension": ".py",
   "mimetype": "text/x-python",
   "name": "python",
   "nbconvert_exporter": "python",
   "pygments_lexer": "ipython3",
   "version": "3.10.6"
  }
 },
 "nbformat": 4,
 "nbformat_minor": 5
}
