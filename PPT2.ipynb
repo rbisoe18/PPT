{
 "cells": [
  {
   "cell_type": "markdown",
   "id": "5fa71ce3-95e8-4414-b015-17d13f93da7a",
   "metadata": {},
   "source": [
    "### Q. 1"
   ]
  },
  {
   "cell_type": "code",
   "execution_count": 6,
   "id": "865c76f6-1916-4534-94d4-fe13f14fff85",
   "metadata": {},
   "outputs": [
    {
     "data": {
      "text/plain": [
       "'missing number is: 2'"
      ]
     },
     "execution_count": 6,
     "metadata": {},
     "output_type": "execute_result"
    }
   ],
   "source": [
    "def find_missing_num(nums):\n",
    "    n = len(nums)\n",
    "    total_sum = (n * (n+1)) // 2\n",
    "    arr_sum = sum(nums)\n",
    "    \n",
    "    return f\"missing number is: {total_sum - arr_sum}\"\n",
    "\n",
    "find_missing_num([3,1,0])"
   ]
  },
  {
   "cell_type": "markdown",
   "id": "b94ade4f-29aa-41ed-a1ed-c1de1ce4c7ce",
   "metadata": {},
   "source": [
    "Or"
   ]
  },
  {
   "cell_type": "code",
   "execution_count": 2,
   "id": "97bda43b-d6b4-4459-a363-bfe107ee4060",
   "metadata": {},
   "outputs": [
    {
     "data": {
      "text/plain": [
       "'missing number is:2'"
      ]
     },
     "execution_count": 2,
     "metadata": {},
     "output_type": "execute_result"
    }
   ],
   "source": [
    "def find_missing_num(nums):\n",
    "    numSet = set(nums)\n",
    " \n",
    "    NumCount = len(nums) + 1\n",
    "    for number in range(NumCount):\n",
    "        if number not in numSet:\n",
    "            return f\"missing number is:{number}\"\n",
    " \n",
    "    return -1\n",
    "\n",
    "find_missing_num([3,1,0])"
   ]
  },
  {
   "cell_type": "markdown",
   "id": "2c590504-19ce-48b8-b74c-806811ec796a",
   "metadata": {},
   "source": [
    "#### Q. 2"
   ]
  },
  {
   "cell_type": "code",
   "execution_count": 8,
   "id": "f5e99ec8-35ef-4f87-bfc3-38c62d52998e",
   "metadata": {},
   "outputs": [
    {
     "name": "stdout",
     "output_type": "stream",
     "text": [
      "True\n",
      "3\n",
      "-----\n",
      "1\n",
      "10\n",
      "-----\n",
      "8\n",
      "18\n",
      "-----\n",
      "15\n"
     ]
    },
    {
     "data": {
      "text/plain": [
       "'ans is: [[1, 6], [8, 10], [15, 18]]'"
      ]
     },
     "execution_count": 8,
     "metadata": {},
     "output_type": "execute_result"
    }
   ],
   "source": [
    "def merge(intervals):\n",
    "    intervals.sort(key=lambda x: x[0])\n",
    "    merged = []\n",
    "    print( not merged)\n",
    "    for interval in intervals:\n",
    "        if not merged or merged[-1][1] < interval[0]:\n",
    "            merged.append(interval)\n",
    "            print(merged[-1][1])\n",
    "            print(\"-----\")\n",
    "            print(interval[0])\n",
    "        else:\n",
    "            merged[-1][1] = max(merged[-1][1], interval[1])\n",
    "    return f\"ans is: {merged}\"\n",
    "\n",
    "merge([[1,3],[2,6],[8,10],[15,18]])    "
   ]
  },
  {
   "cell_type": "markdown",
   "id": "2dd394cc-46db-4765-adac-1884bb3c59ad",
   "metadata": {},
   "source": [
    "### Q. 3."
   ]
  },
  {
   "cell_type": "code",
   "execution_count": 10,
   "id": "4339417a-9d51-4fea-bd39-ed4e1f428837",
   "metadata": {},
   "outputs": [],
   "source": [
    "def merge(arr1,arr2):\n",
    "    n1 = len(arr1)\n",
    "    new = []\n",
    "    for i in range(n):\n",
    "        \n",
    "        \n",
    "    "
   ]
  },
  {
   "cell_type": "markdown",
   "id": "a9b98de9-957f-4207-b388-1b7a6c17923f",
   "metadata": {},
   "source": [
    "#### Q. 4"
   ]
  },
  {
   "cell_type": "code",
   "execution_count": 1,
   "id": "f92d7442-3198-44a4-99fa-8b9a5f8b1192",
   "metadata": {},
   "outputs": [
    {
     "data": {
      "text/plain": [
       "3"
      ]
     },
     "execution_count": 1,
     "metadata": {},
     "output_type": "execute_result"
    }
   ],
   "source": [
    "def maojority(nums):\n",
    "    nums.sort()\n",
    "    return nums[(len(nums) // 2)]\n",
    "         \n",
    "maojority([3,2,3,2,4,4,4])"
   ]
  },
  {
   "cell_type": "markdown",
   "id": "813fc95e-4a31-440e-b5fa-9e603103f18d",
   "metadata": {},
   "source": [
    "#### Q. 5."
   ]
  },
  {
   "cell_type": "markdown",
   "id": "056ffa84-0ce0-4f7b-8a3b-7730101569e5",
   "metadata": {},
   "source": [
    "def findDuplicate(nums):\n",
    "    seen = set()\n",
    "    for num in nums:\n",
    "        print(seen)\n",
    "        print(\"--\")\n",
    "        if num in seen:\n",
    "            print(num)\n",
    "            print(\"--\")\n",
    "        seen.add(num)\n",
    "    return -1\n",
    "findDuplicate([1,3,4,2,2])"
   ]
  },
  {
   "cell_type": "markdown",
   "id": "6e480730-5dc6-40d5-aad0-5083ffbec796",
   "metadata": {},
   "source": [
    "#### Q. 7."
   ]
  },
  {
   "cell_type": "code",
   "execution_count": 23,
   "id": "f347e861-b623-4d53-a936-a353523e9539",
   "metadata": {},
   "outputs": [
    {
     "data": {
      "text/plain": [
       "{2, 4, 5, 6, 8}"
      ]
     },
     "execution_count": 23,
     "metadata": {},
     "output_type": "execute_result"
    }
   ],
   "source": [
    "def output(nums):\n",
    "    new = set()\n",
    "    a = nums[0]\n",
    "    b = nums[1]\n",
    "    for num in range(a,b):\n",
    "        if num % 2 == 0 or num % 5 == 0:\n",
    "            new.add(num)\n",
    "    return new\n",
    "\n",
    "output([2,10])"
   ]
  },
  {
   "cell_type": "markdown",
   "id": "6ff52bfb-21d6-48ab-8c99-a9e8492aa1fd",
   "metadata": {},
   "source": [
    "#### Q. 8."
   ]
  },
  {
   "cell_type": "code",
   "execution_count": 28,
   "id": "34128a43-b838-4be8-974a-a6332b65cf71",
   "metadata": {},
   "outputs": [
    {
     "data": {
      "text/plain": [
       "1"
      ]
     },
     "execution_count": 28,
     "metadata": {},
     "output_type": "execute_result"
    }
   ],
   "source": [
    "def palend(arr):\n",
    "    result = 0\n",
    "    n = len(arr)\n",
    "    i,j = 0,n-1\n",
    "    while i <= j:\n",
    "        if arr[i] == arr[j]:\n",
    "            i += 1\n",
    "            j -= 1\n",
    "        elif arr[i] > arr[j]:\n",
    "            j -= 1\n",
    "            arr[j] += arr[j + 1]\n",
    "            result += 1\n",
    "        else: \n",
    "            i += 1\n",
    "            arr[i] += arr[i - 1]\n",
    "            result += 1\n",
    "    return result\n",
    "        \n",
    "palend([1, 4, 5, 9, 1])"
   ]
  },
  {
   "cell_type": "code",
   "execution_count": null,
   "id": "9b47fbb8-80c9-4ef7-b61c-2043606fb855",
   "metadata": {},
   "outputs": [],
   "source": []
  }
 ],
 "metadata": {
  "kernelspec": {
   "display_name": "Python 3 (ipykernel)",
   "language": "python",
   "name": "python3"
  },
  "language_info": {
   "codemirror_mode": {
    "name": "ipython",
    "version": 3
   },
   "file_extension": ".py",
   "mimetype": "text/x-python",
   "name": "python",
   "nbconvert_exporter": "python",
   "pygments_lexer": "ipython3",
   "version": "3.10.6"
  }
 },
 "nbformat": 4,
 "nbformat_minor": 5
}
