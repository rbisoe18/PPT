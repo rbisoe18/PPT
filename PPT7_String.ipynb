{
 "cells": [
  {
   "cell_type": "markdown",
   "id": "9d434575-8501-49b6-9c2d-d32cd68a4db9",
   "metadata": {},
   "source": [
    "#### Q.1."
   ]
  },
  {
   "cell_type": "code",
   "execution_count": 10,
   "id": "1ee76905-7261-495d-b679-b0d7f77fc87c",
   "metadata": {},
   "outputs": [
    {
     "data": {
      "text/plain": [
       "['o', 'l', 'l', 'e', 'h']"
      ]
     },
     "execution_count": 10,
     "metadata": {},
     "output_type": "execute_result"
    }
   ],
   "source": [
    "def rev_string(s):\n",
    "    n = len(s)\n",
    "    left, right = 0,n-1\n",
    "    for i in s:\n",
    "        if left <= right:\n",
    "            s[left], s[right] = s[right], s[left]\n",
    "            left += 1\n",
    "            right -= 1\n",
    "    return s\n",
    "s = [\"h\",\"e\",\"l\",\"l\",\"o\"]\n",
    "rev_string(s)"
   ]
  },
  {
   "cell_type": "markdown",
   "id": "208ced7a-3747-49db-9552-63a5c29a88d5",
   "metadata": {},
   "source": [
    "#### Q.2."
   ]
  },
  {
   "cell_type": "code",
   "execution_count": 8,
   "id": "92e4351d-a61f-42be-86c8-d0d6e9795e31",
   "metadata": {},
   "outputs": [
    {
     "ename": "KeyError",
     "evalue": "'e'",
     "output_type": "error",
     "traceback": [
      "\u001b[0;31m---------------------------------------------------------------------------\u001b[0m",
      "\u001b[0;31mKeyError\u001b[0m                                  Traceback (most recent call last)",
      "Cell \u001b[0;32mIn [8], line 11\u001b[0m\n\u001b[1;32m      8\u001b[0m     \u001b[38;5;28;01mreturn\u001b[39;00m \u001b[38;5;241m-\u001b[39m\u001b[38;5;241m1\u001b[39m\n\u001b[1;32m     10\u001b[0m s \u001b[38;5;241m=\u001b[39m \u001b[38;5;124m\"\u001b[39m\u001b[38;5;124meetcode\u001b[39m\u001b[38;5;124m\"\u001b[39m\n\u001b[0;32m---> 11\u001b[0m \u001b[43mistFindNonRepEle\u001b[49m\u001b[43m(\u001b[49m\u001b[43ms\u001b[49m\u001b[43m)\u001b[49m\n",
      "Cell \u001b[0;32mIn [8], line 5\u001b[0m, in \u001b[0;36mistFindNonRepEle\u001b[0;34m(s)\u001b[0m\n\u001b[1;32m      3\u001b[0m count \u001b[38;5;241m=\u001b[39m {}\n\u001b[1;32m      4\u001b[0m \u001b[38;5;28;01mfor\u001b[39;00m i,char \u001b[38;5;129;01min\u001b[39;00m \u001b[38;5;28menumerate\u001b[39m(s):\n\u001b[0;32m----> 5\u001b[0m     \u001b[38;5;28;01mif\u001b[39;00m \u001b[43mcount\u001b[49m\u001b[43m[\u001b[49m\u001b[43ms\u001b[49m\u001b[43m[\u001b[49m\u001b[43mi\u001b[49m\u001b[43m]\u001b[49m\u001b[43m]\u001b[49m \u001b[38;5;241m<\u001b[39m\u001b[38;5;241m=\u001b[39m \u001b[38;5;241m1\u001b[39m:             \n\u001b[1;32m      6\u001b[0m         \u001b[38;5;28mprint\u001b[39m(char) \u001b[38;5;66;03m# character\u001b[39;00m\n\u001b[1;32m      7\u001b[0m     \u001b[38;5;28;01mreturn\u001b[39;00m i \u001b[38;5;66;03m# index\u001b[39;00m\n",
      "\u001b[0;31mKeyError\u001b[0m: 'e'"
     ]
    }
   ],
   "source": [
    "def istFindNonRepEle(s):\n",
    "    n = len(s)\n",
    "    count = {}\n",
    "    for i,char in enumerate(s):\n",
    "        if count[s[i]] <= 1:             \n",
    "            print(char) # character\n",
    "        return i # index\n",
    "    return -1\n",
    "\n",
    "s = \"eetcode\"\n",
    "istFindNonRepEle(s)"
   ]
  },
  {
   "cell_type": "code",
   "execution_count": 4,
   "id": "f829aa0b-dd09-434e-bb8c-c4b85771e01b",
   "metadata": {},
   "outputs": [
    {
     "data": {
      "text/plain": [
       "0"
      ]
     },
     "execution_count": 17,
     "metadata": {},
     "output_type": "execute_result"
    }
   ],
   "source": [
    "# Class Work\n",
    "def firstUniqChar(s):\n",
    "    count = {}\n",
    "    n = len(s)\n",
    "    # build hash map: character and how often it appears\n",
    "    for i in range(n):\n",
    "        c = s[i]\n",
    "        count[c] = count.get(c, 0) + 1\n",
    "\n",
    "    # find the index\n",
    "    for i in range(n):\n",
    "        if count[s[i]] == 1:\n",
    "            return i\n",
    "    return -1\n",
    "s = \"leetcode\"\n",
    "firstUniqChar(s)"
   ]
  },
  {
   "cell_type": "markdown",
   "id": "aac0491e-4a86-4b40-bfed-d7e7754fac7b",
   "metadata": {},
   "source": [
    "#### Q.3."
   ]
  },
  {
   "cell_type": "code",
   "execution_count": 9,
   "id": "0d675260-0349-42ab-9ffa-45e9490dec3e",
   "metadata": {},
   "outputs": [
    {
     "data": {
      "text/plain": [
       "5"
      ]
     },
     "execution_count": 9,
     "metadata": {},
     "output_type": "execute_result"
    }
   ],
   "source": [
    "# Class Work\n",
    "def lengthOfLastWord(s):\n",
    "    # trim the trailing spaces\n",
    "    p = len(s) - 1\n",
    "    while p >= 0 and s[p] == ' ':\n",
    "        p -= 1\n",
    "\n",
    "    # compute the length of last word\n",
    "    length = 0\n",
    "    while p >= 0 and s[p] != ' ':\n",
    "        p -= 1\n",
    "        length += 1\n",
    "    return length\n",
    "\n",
    "s = \"Hello World\"\n",
    "lengthOfLastWord(s)"
   ]
  },
  {
   "cell_type": "code",
   "execution_count": 22,
   "id": "89371fe8-7503-445a-a9df-03783ba2cae4",
   "metadata": {},
   "outputs": [
    {
     "data": {
      "text/plain": [
       "5"
      ]
     },
     "execution_count": 22,
     "metadata": {},
     "output_type": "execute_result"
    }
   ],
   "source": [
    "def lenlastword(s):\n",
    "    for i in s:\n",
    "        return len(s.split()[-1]) # Last Word after slipting\n",
    "    \n",
    "s = \"Hello World\"\n",
    "lenlastword(s)"
   ]
  },
  {
   "cell_type": "code",
   "execution_count": 20,
   "id": "bfbe2f56-915d-49ca-bbbe-0b1cc8a0b911",
   "metadata": {},
   "outputs": [
    {
     "name": "stdout",
     "output_type": "stream",
     "text": [
      "5\n"
     ]
    }
   ],
   "source": [
    "def length_of_last_word(s):\n",
    "    # Trim the string to remove leading and trailing spaces\n",
    "    trimmed = s.strip()\n",
    "    \n",
    "    # Find the index of the last space in the trimmed string\n",
    "    last_space_index = trimmed.rfind(' ')\n",
    "    \n",
    "    # Extract the substring starting from last_space_index + 1 until the end of the string\n",
    "    last_word = trimmed[last_space_index + 1:]\n",
    "    \n",
    "    # Return the length of the last word\n",
    "    return len(last_word)\n",
    "\n",
    "s = \"Hello World\"\n",
    "print(length_of_last_word(s))"
   ]
  },
  {
   "cell_type": "markdown",
   "id": "d24d3ec5-1c88-4813-8823-85043a1fc9af",
   "metadata": {},
   "source": [
    "#### Q.4."
   ]
  },
  {
   "cell_type": "code",
   "execution_count": null,
   "id": "c4da91a6-cef8-4b09-a723-2fe6f6574344",
   "metadata": {},
   "outputs": [],
   "source": [
    "def prefix(s):\n",
    "    for "
   ]
  },
  {
   "cell_type": "code",
   "execution_count": 25,
   "id": "54ca561d-ae3f-463a-b61f-b3181287a1e6",
   "metadata": {},
   "outputs": [
    {
     "data": {
      "text/plain": [
       "'lee'"
      ]
     },
     "execution_count": 25,
     "metadata": {},
     "output_type": "execute_result"
    }
   ],
   "source": [
    "def longestCommonPrefix(strs):\n",
    "    if len(strs) == 0:\n",
    "        return \"\"\n",
    "    prefix = strs[0]\n",
    "    for i in range(1, len(strs)):\n",
    "        while strs[i].find(prefix) != 0:\n",
    "            prefix = prefix[:-1]\n",
    "            if len(prefix) == 0:\n",
    "                return \"\"\n",
    "    return prefix\n",
    "\n",
    "strs = [\"leecode\",\"leeside\",\"leeday\"]\n",
    "longestCommonPrefix(strs)"
   ]
  },
  {
   "cell_type": "code",
   "execution_count": null,
   "id": "52dcaeff-05f3-4a74-bbc1-9f69ad10a13e",
   "metadata": {},
   "outputs": [
    {
     "name": "stdout",
     "output_type": "stream",
     "text": [
      "-1\n",
      "-1\n"
     ]
    }
   ],
   "source": [
    "strs = [\"leecode\",\"leeside\",\"leeday\"]\n",
    "prefix = strs[0]\n",
    "for i in range(1, len(strs)):\n",
    "    print(strs[i].find(prefix))"
   ]
  },
  {
   "cell_type": "markdown",
   "id": "fdd4f2fd-871c-499b-a5d8-c3d260f1b1c5",
   "metadata": {},
   "source": [
    "#### Q.5."
   ]
  },
  {
   "cell_type": "code",
   "execution_count": 2,
   "id": "fb8f88b5-2a64-4b59-9555-5c28b0e56194",
   "metadata": {},
   "outputs": [
    {
     "data": {
      "text/plain": [
       "3"
      ]
     },
     "execution_count": 2,
     "metadata": {},
     "output_type": "execute_result"
    }
   ],
   "source": [
    "def lengthOfLongestSubstring(s):\n",
    "    n = len(s)\n",
    "    ans = 0\n",
    "    map = {}  # current index of character\n",
    "    # try to extend the range [i, j]\n",
    "    i = 0\n",
    "    for j in range(n):\n",
    "        if s[j] in map:\n",
    "            i = max(map[s[j]], i)\n",
    "        ans = max(ans, j - i + 1)\n",
    "        map[s[j]] = j + 1\n",
    "    return ans\n",
    "s = \"abcabcbb\"\n",
    "lengthOfLongestSubstring(s)"
   ]
  },
  {
   "cell_type": "markdown",
   "id": "72101369-5a71-4ce7-9674-91afeaf9e0a2",
   "metadata": {},
   "source": [
    "#### Q.6."
   ]
  },
  {
   "cell_type": "code",
   "execution_count": 10,
   "id": "800dadda-4ced-4dc8-9ea7-e6b655883f5a",
   "metadata": {},
   "outputs": [
    {
     "data": {
      "text/plain": [
       "'blue is sky the'"
      ]
     },
     "execution_count": 10,
     "metadata": {},
     "output_type": "execute_result"
    }
   ],
   "source": [
    "def reverseword(s):\n",
    "    for char in s:\n",
    "        return ' '.join(s.split()[::-1])\n",
    "s = \"the sky is blue\"\n",
    "reverseword(s)"
   ]
  },
  {
   "cell_type": "code",
   "execution_count": 11,
   "id": "3d6fca64-12e2-49da-bb99-a019153f30f0",
   "metadata": {},
   "outputs": [
    {
     "data": {
      "text/plain": [
       "'blue is sky the'"
      ]
     },
     "execution_count": 11,
     "metadata": {},
     "output_type": "execute_result"
    }
   ],
   "source": [
    "def reverseWords(s):\n",
    "    # remove leading and trailing spaces\n",
    "    s = s.strip()\n",
    "    # split by multiple spaces\n",
    "    wordList = s.split()\n",
    "    # reverse the list of words\n",
    "    wordList.reverse()\n",
    "    # join the words with a space separator\n",
    "    return ' '.join(wordList)\n",
    "s = \"the sky is blue\"\n",
    "reverseword(s)"
   ]
  },
  {
   "cell_type": "code",
   "execution_count": 12,
   "id": "176dd291-4e9a-4e03-b8c4-0b9081cf6554",
   "metadata": {},
   "outputs": [
    {
     "data": {
      "text/plain": [
       "'blue is sky the'"
      ]
     },
     "execution_count": 12,
     "metadata": {},
     "output_type": "execute_result"
    }
   ],
   "source": [
    "from collections import deque\n",
    "\n",
    "def reverseWords(s):\n",
    "    left, right = 0, len(s) - 1\n",
    "    # remove leading spaces\n",
    "    while left <= right and s[left] == ' ':\n",
    "        left += 1\n",
    "\n",
    "    # remove trailing spaces\n",
    "    while left <= right and s[right] == ' ':\n",
    "        right -= 1\n",
    "\n",
    "    d = deque()\n",
    "    word = []\n",
    "    # push word by word in front of deque\n",
    "    while left <= right:\n",
    "        c = s[left]\n",
    "\n",
    "        if len(word) != 0 and c == ' ':\n",
    "            d.appendleft(''.join(word))\n",
    "            word = []\n",
    "        elif c != ' ':\n",
    "            word.append(c)\n",
    "        left += 1\n",
    "\n",
    "    d.appendleft(''.join(word))\n",
    "\n",
    "    return ' '.join(d)\n",
    "s = \"the sky is blue\"\n",
    "reverseword(s)"
   ]
  },
  {
   "cell_type": "code",
   "execution_count": null,
   "id": "31d260c8-147c-48c4-9af5-d69dbccf449d",
   "metadata": {},
   "outputs": [],
   "source": []
  }
 ],
 "metadata": {
  "kernelspec": {
   "display_name": "Python 3 (ipykernel)",
   "language": "python",
   "name": "python3"
  },
  "language_info": {
   "codemirror_mode": {
    "name": "ipython",
    "version": 3
   },
   "file_extension": ".py",
   "mimetype": "text/x-python",
   "name": "python",
   "nbconvert_exporter": "python",
   "pygments_lexer": "ipython3",
   "version": "3.10.6"
  }
 },
 "nbformat": 4,
 "nbformat_minor": 5
}
