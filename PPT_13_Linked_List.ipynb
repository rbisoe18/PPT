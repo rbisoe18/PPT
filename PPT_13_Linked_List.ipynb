{
 "cells": [
  {
   "cell_type": "markdown",
   "id": "ba1a2089-35b4-4a96-ad84-7c38c34ddac7",
   "metadata": {},
   "source": [
    "#### Q.1. Merge Two sorted Linked List"
   ]
  },
  {
   "cell_type": "code",
   "execution_count": 16,
   "id": "dc4f91be-99f9-41d5-a9b6-aa642133a888",
   "metadata": {},
   "outputs": [
    {
     "name": "stdout",
     "output_type": "stream",
     "text": [
      "1 1 2 3 4 4 \n",
      "-----\n",
      "\n",
      "-----\n",
      "0 "
     ]
    }
   ],
   "source": [
    "class ListNode:\n",
    "    def __init__(self, val=0, next=None):\n",
    "        self.val = val\n",
    "        self.next = next\n",
    "\n",
    "\n",
    "def mergeTwoLists(list1, list2):\n",
    "    # Create a dummy node\n",
    "    dummy = ListNode(0)\n",
    "    # Set the current pointer to the dummy node\n",
    "    current = dummy\n",
    "    ptr1 = list1\n",
    "    ptr2 = list2\n",
    "\n",
    "    # Merge the lists\n",
    "    while ptr1 and ptr2:\n",
    "        if ptr1.val <= ptr2.val:\n",
    "            current.next = ptr1\n",
    "            ptr1 = ptr1.next\n",
    "        else:\n",
    "            current.next = ptr2\n",
    "            ptr2 = ptr2.next\n",
    "        current = current.next\n",
    "\n",
    "    # Connect the remaining nodes\n",
    "    if ptr1:\n",
    "        current.next = ptr1\n",
    "    if ptr2:\n",
    "        current.next = ptr2\n",
    "\n",
    "    # Return the head of the merged list\n",
    "    return dummy.next\n",
    "\n",
    "# Example 1\n",
    "list1 = ListNode(1)\n",
    "list1.next = ListNode(2)\n",
    "list1.next.next = ListNode(4)\n",
    "\n",
    "list2 = ListNode(1)\n",
    "list2.next = ListNode(3)\n",
    "list2.next.next = ListNode(4)\n",
    "\n",
    "merged = mergeTwoLists(list1, list2)\n",
    "\n",
    "# Print the merged list\n",
    "while merged:\n",
    "    print(merged.val, end=\" \")\n",
    "    merged = merged.next\n",
    "# Output: 1 1 2 3 4 4\n",
    "print(\"\\n-----\")\n",
    "# Example 2\n",
    "list1 = None\n",
    "list2 = None\n",
    "\n",
    "merged = mergeTwoLists(list1, list2)\n",
    "\n",
    "# Print the merged list\n",
    "while merged:\n",
    "    print(merged.val, end=\" \")\n",
    "    merged = merged.next\n",
    "# Output: (empty list)\n",
    "print(\"\\n-----\")\n",
    "# Example 3\n",
    "list1 = None\n",
    "list2 = ListNode(0)\n",
    "\n",
    "merged = mergeTwoLists(list1, list2)\n",
    "\n",
    "# Print the merged list\n",
    "while merged:\n",
    "    print(merged.val, end=\" \")\n",
    "    merged = merged.next\n",
    "# Output: 0\n"
   ]
  },
  {
   "cell_type": "markdown",
   "id": "5db87677-d645-4d21-a7f2-efff09a0d02a",
   "metadata": {},
   "source": [
    "#### Q.2"
   ]
  },
  {
   "cell_type": "code",
   "execution_count": 21,
   "id": "aeb05089-38da-482d-b5c0-0511cf78c2ae",
   "metadata": {},
   "outputs": [
    {
     "name": "stdout",
     "output_type": "stream",
     "text": [
      "3 4 5 \n",
      "------\n",
      "4 5 6 "
     ]
    }
   ],
   "source": [
    "class ListNode:\n",
    "    def __init__(self, val=0, next=None):\n",
    "        self.val = val\n",
    "        self.next = next\n",
    "\n",
    "def findMiddleNode(head):\n",
    "    slow = head\n",
    "    fast = head\n",
    "\n",
    "    # Move the fast pointer two nodes at a time\n",
    "    # and the slow pointer one node at a time\n",
    "    while fast and fast.next:\n",
    "        slow = slow.next\n",
    "        fast = fast.next.next\n",
    "\n",
    "    # Return the second middle node if there are two middle nodes\n",
    "    # or return the middle node if there is only one middle node\n",
    "    return slow\n",
    "\n",
    "# Example 1\n",
    "head = ListNode(1)\n",
    "head.next = ListNode(2)\n",
    "head.next.next = ListNode(3)\n",
    "head.next.next.next = ListNode(4)\n",
    "head.next.next.next.next = ListNode(5)\n",
    "\n",
    "middle = findMiddleNode(head)\n",
    "\n",
    "# Print the middle node and the following nodes\n",
    "while middle:\n",
    "    print(middle.val, end=\" \")\n",
    "    middle = middle.next\n",
    "# Output: 3 4 5\n",
    "print(\"\\n------\")\n",
    "# Example 2\n",
    "head = ListNode(1)\n",
    "head.next = ListNode(2)\n",
    "head.next.next = ListNode(3)\n",
    "head.next.next.next = ListNode(4)\n",
    "head.next.next.next.next = ListNode(5)\n",
    "head.next.next.next.next.next = ListNode(6)\n",
    "\n",
    "middle = findMiddleNode(head)\n",
    "\n",
    "# Print the middle node and the following nodes\n",
    "while middle:\n",
    "    print(middle.val, end=\" \")\n",
    "    middle = middle.next\n",
    "# Output: 4 5 6\n"
   ]
  },
  {
   "cell_type": "markdown",
   "id": "07365979-857c-40da-9d58-5b94bfd65d75",
   "metadata": {},
   "source": [
    "#### Q.3"
   ]
  },
  {
   "cell_type": "code",
   "execution_count": 23,
   "id": "626f43ad-47f9-4a24-b750-6ab1fdd05a8c",
   "metadata": {},
   "outputs": [
    {
     "name": "stdout",
     "output_type": "stream",
     "text": [
      "True\n",
      "\n",
      "-----\n",
      "False\n"
     ]
    }
   ],
   "source": [
    "class ListNode:\n",
    "    def __init__(self, val=0, next=None):\n",
    "        self.val = val\n",
    "        self.next = next\n",
    "\n",
    "def isPalindrome(head):\n",
    "    # Find the middle of the linked list\n",
    "    slow = head\n",
    "    fast = head\n",
    "    while fast and fast.next:\n",
    "        slow = slow.next\n",
    "        fast = fast.next.next\n",
    "\n",
    "    # Reverse the second half of the linked list\n",
    "    prev = None\n",
    "    while slow:\n",
    "        next_node = slow.next\n",
    "        slow.next = prev\n",
    "        prev = slow\n",
    "        slow = next_node\n",
    "\n",
    "    # Compare the values of the first half with the reversed second half\n",
    "    while prev:\n",
    "        if head.val != prev.val:\n",
    "            return False\n",
    "        head = head.next\n",
    "        prev = prev.next\n",
    "\n",
    "    return True\n",
    "# Example 1\n",
    "head = ListNode(1)\n",
    "head.next = ListNode(2)\n",
    "head.next.next = ListNode(2)\n",
    "head.next.next.next = ListNode(1)\n",
    "\n",
    "print(isPalindrome(head))\n",
    "# Output: True\n",
    "print(\"\\n-----\")\n",
    "# Example 2\n",
    "head = ListNode(1)\n",
    "head.next = ListNode(2)\n",
    "\n",
    "print(isPalindrome(head))\n",
    "# Output: False\n"
   ]
  },
  {
   "cell_type": "markdown",
   "id": "e98a13c5-ab4a-46d9-8861-92886752d6a3",
   "metadata": {},
   "source": [
    "#### Q.4"
   ]
  },
  {
   "cell_type": "code",
   "execution_count": 7,
   "id": "e9969502-8a68-4099-be8f-1b6bdbf3e563",
   "metadata": {},
   "outputs": [
    {
     "name": "stdout",
     "output_type": "stream",
     "text": [
      "True\n",
      "\n",
      "-----\n",
      "True\n",
      "\n",
      "----\n",
      "False\n"
     ]
    }
   ],
   "source": [
    "class ListNode:\n",
    "    def __init__(self, val=0, next=None):\n",
    "        self.val = val\n",
    "        self.next = next\n",
    "        \n",
    "def hasCycle(head):\n",
    "    if not head or not head.next:\n",
    "        return False\n",
    "\n",
    "    slow = head\n",
    "    fast = head.next\n",
    "\n",
    "    while slow != fast:\n",
    "        if not fast or not fast.next:\n",
    "            return False\n",
    "\n",
    "        slow = slow.next\n",
    "        fast = fast.next.next\n",
    "\n",
    "    return True\n",
    "\n",
    "# Example 1\n",
    "head = ListNode(3)\n",
    "head.next = ListNode(2)\n",
    "head.next.next = ListNode(0)\n",
    "head.next.next.next = ListNode(-4)\n",
    "head.next.next.next.next = head.next\n",
    "print(hasCycle(head))  # Output: True\n",
    "print(\"\\n-----\")\n",
    "# Example 2\n",
    "head = ListNode(1)\n",
    "head.next = ListNode(2)\n",
    "head.next.next = head\n",
    "print(hasCycle(head))  # Output: True\n",
    "print(\"\\n----\")\n",
    "# Example 3\n",
    "head = ListNode(1)\n",
    "print(hasCycle(head))  # Output: False\n"
   ]
  },
  {
   "cell_type": "code",
   "execution_count": null,
   "id": "25717785-9c2d-4ddb-87ae-76c6befb3e35",
   "metadata": {},
   "outputs": [],
   "source": []
  }
 ],
 "metadata": {
  "kernelspec": {
   "display_name": "Python 3 (ipykernel)",
   "language": "python",
   "name": "python3"
  },
  "language_info": {
   "codemirror_mode": {
    "name": "ipython",
    "version": 3
   },
   "file_extension": ".py",
   "mimetype": "text/x-python",
   "name": "python",
   "nbconvert_exporter": "python",
   "pygments_lexer": "ipython3",
   "version": "3.10.6"
  }
 },
 "nbformat": 4,
 "nbformat_minor": 5
}
