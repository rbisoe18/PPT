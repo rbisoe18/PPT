{
 "cells": [
  {
   "cell_type": "markdown",
   "id": "1aa7fd4e-ab16-4f1d-8ee3-1010d385caf6",
   "metadata": {},
   "source": [
    "#### Q.1. Spiral of elements"
   ]
  },
  {
   "cell_type": "code",
   "execution_count": 15,
   "id": "017a9dda-7937-449d-934e-de76b763012c",
   "metadata": {},
   "outputs": [
    {
     "data": {
      "text/plain": [
       "[1, 2, 3, 6, 9, 8, 7, 4, 5]"
      ]
     },
     "execution_count": 15,
     "metadata": {},
     "output_type": "execute_result"
    }
   ],
   "source": [
    "def spiralOrder(matrix):\n",
    "    result = []\n",
    "    rows = len(matrix)\n",
    "    columns = len(matrix[0])\n",
    "    up = 0\n",
    "    left = 0\n",
    "    right = columns - 1\n",
    "    down = rows - 1\n",
    " \n",
    "    while len(result) < rows * columns:\n",
    "        # Traverse from left to right.\n",
    "        for col in range(left, right + 1):\n",
    "            result.append(matrix[up][col])\n",
    "        for row in range(up + 1, down + 1):\n",
    "            result.append(matrix[row][right])\n",
    "        if up != down:\n",
    "        # Traverse from right to left.\n",
    "            for col in range(right - 1, left - 1, -1):\n",
    "                result.append(matrix[down][col])\n",
    "        if left != right:\n",
    "            # Traverse upwards.\n",
    "            for row in range(down - 1, up, -1):\n",
    "                result.append(matrix[row][left])\n",
    "        left += 1\n",
    "        right -= 1\n",
    "        up += 1\n",
    "        down -= 1\n",
    " \n",
    "    return result\n",
    "        \n",
    "matrix = [[1,2,3],[4,5,6],[7,8,9]]\n",
    "spiralOrder(matrix)"
   ]
  },
  {
   "cell_type": "markdown",
   "id": "8ce0c6ff-2cdd-4761-90ea-db2fea31fa91",
   "metadata": {},
   "source": [
    "#### Q. 2. Sum of non repated diagonal elements"
   ]
  },
  {
   "cell_type": "code",
   "execution_count": 27,
   "id": "91ba4f3e-e6a9-4ac3-9077-72a9e8785ef7",
   "metadata": {},
   "outputs": [
    {
     "data": {
      "text/plain": [
       "25"
      ]
     },
     "execution_count": 27,
     "metadata": {},
     "output_type": "execute_result"
    }
   ],
   "source": [
    "def diagonalSum(matrix):\n",
    "    n = len(matrix)\n",
    "    ans = 0\n",
    " \n",
    "    for i in range(n):\n",
    "        # Add elements from primary diagonal.\n",
    "        ans += matrix[i][i]\n",
    "        # Add elements from secondary diagonal.\n",
    "        ans += matrix[n - 1 - i][i]\n",
    "    # If n is odd, subtract the middle element as it's added twice.\n",
    "    if n % 2 != 0:\n",
    "        ans -= matrix[n // 2][n // 2]\n",
    "    return ans\n",
    "matrix = [[1,2,3],[4,5,6],[7,8,9]]\n",
    "diagonalSum(matrix)"
   ]
  },
  {
   "cell_type": "markdown",
   "id": "ee40f1a3-73b0-4e50-b084-b69f6a8ea7b6",
   "metadata": {},
   "source": [
    "#### Q . 3. Count Negative elements"
   ]
  },
  {
   "cell_type": "code",
   "execution_count": 36,
   "id": "d3d8c69f-775c-49a5-b64e-c64d0dfaf20f",
   "metadata": {},
   "outputs": [
    {
     "data": {
      "text/plain": [
       "8"
      ]
     },
     "execution_count": 36,
     "metadata": {},
     "output_type": "execute_result"
    }
   ],
   "source": [
    "def countNegatives(grid):\n",
    "    count = 0\n",
    "    n = len(grid[0])\n",
    "    currRowNegativeIndex = n - 1\n",
    " \n",
    "    for row in grid:\n",
    "        while currRowNegativeIndex >= 0 and row[currRowNegativeIndex] < 0:\n",
    "            currRowNegativeIndex -= 1\n",
    "        count += (n - (currRowNegativeIndex + 1))\n",
    " \n",
    "    return count\n",
    "grid = [[4,3,2,-1],[3,2,1,-1],[1,1,-1,-2],[-1,-1,-2,-3]]\n",
    "countNegatives(grid)"
   ]
  },
  {
   "cell_type": "markdown",
   "id": "63996de4-1850-4831-b03e-2c510a2756f4",
   "metadata": {},
   "source": [
    "#### Q. 4. Check max wealth in Two Rows(accounts)"
   ]
  },
  {
   "cell_type": "code",
   "execution_count": 37,
   "id": "0e6abebf-4690-4c67-a999-efbb046427a9",
   "metadata": {},
   "outputs": [
    {
     "data": {
      "text/plain": [
       "6"
      ]
     },
     "execution_count": 37,
     "metadata": {},
     "output_type": "execute_result"
    }
   ],
   "source": [
    "def maximumWealth(accounts):\n",
    "    maxWealthSoFar = 0\n",
    " \n",
    "    for account in accounts:\n",
    "        currCustomerWealth = sum(account)\n",
    "        maxWealthSoFar = max(maxWealthSoFar, currCustomerWealth)\n",
    " \n",
    "    return maxWealthSoFar\n",
    "accounts =  [[1,2,3],[3,2,1]]\n",
    "maximumWealth(accounts)"
   ]
  },
  {
   "cell_type": "code",
   "execution_count": null,
   "id": "2b4c6815-4dd0-473f-b3cb-5efdcfb03374",
   "metadata": {},
   "outputs": [],
   "source": []
  }
 ],
 "metadata": {
  "kernelspec": {
   "display_name": "Python 3 (ipykernel)",
   "language": "python",
   "name": "python3"
  },
  "language_info": {
   "codemirror_mode": {
    "name": "ipython",
    "version": 3
   },
   "file_extension": ".py",
   "mimetype": "text/x-python",
   "name": "python",
   "nbconvert_exporter": "python",
   "pygments_lexer": "ipython3",
   "version": "3.10.6"
  }
 },
 "nbformat": 4,
 "nbformat_minor": 5
}
