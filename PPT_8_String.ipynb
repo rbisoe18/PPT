{
 "cells": [
  {
   "cell_type": "markdown",
   "id": "69360554-742e-49a1-9711-f9fc73873daa",
   "metadata": {},
   "source": [
    "#### Q.1."
   ]
  },
  {
   "cell_type": "code",
   "execution_count": 1,
   "id": "b7e66475-7e80-4fd4-87df-b3f718d083da",
   "metadata": {},
   "outputs": [
    {
     "data": {
      "text/plain": [
       "3"
      ]
     },
     "execution_count": 1,
     "metadata": {},
     "output_type": "execute_result"
    }
   ],
   "source": [
    "def numJewelsInStones(J, S):\n",
    "    Jset = set(J)\n",
    "    ans = 0\n",
    "    for s in S:\n",
    "        if s in Jset:\n",
    "            ans += 1\n",
    "    return ans\n",
    "\n",
    "J = \"aA\"\n",
    "S = \"aAAbbbb\"\n",
    "numJewelsInStones(J, S)"
   ]
  },
  {
   "cell_type": "markdown",
   "id": "59cb5509-772d-4ef4-baa8-e9e18cd35318",
   "metadata": {},
   "source": [
    "#### Q.2."
   ]
  },
  {
   "cell_type": "code",
   "execution_count": 3,
   "id": "a7335a15-c432-403e-8b7f-a51ae663ad61",
   "metadata": {},
   "outputs": [
    {
     "data": {
      "text/plain": [
       "True"
      ]
     },
     "execution_count": 3,
     "metadata": {},
     "output_type": "execute_result"
    }
   ],
   "source": [
    "def isAnagram(s, t):\n",
    "    if len(s) != len(t):\n",
    "        return False\n",
    "    counter = [0] * 26\n",
    "    for i in range(len(s)):\n",
    "        counter[ord(s[i]) - ord('a')] += 1\n",
    "        counter[ord(t[i]) - ord('a')] -= 1\n",
    "    for count in counter:\n",
    "        if count != 0:\n",
    "            return False\n",
    "    return True\n",
    "\n",
    "s = \"anagram\"\n",
    "t = \"nagaram\"\n",
    "isAnagram(s,t)"
   ]
  },
  {
   "cell_type": "markdown",
   "id": "9e50ab71-9f8f-49c1-a9b2-639772143ee4",
   "metadata": {},
   "source": [
    "#### Q.3."
   ]
  },
  {
   "cell_type": "code",
   "execution_count": 2,
   "id": "e8becd7f-d74e-4546-8fff-6bd902a22d82",
   "metadata": {},
   "outputs": [
    {
     "data": {
      "text/plain": [
       "True"
      ]
     },
     "execution_count": 2,
     "metadata": {},
     "output_type": "execute_result"
    }
   ],
   "source": [
    "def isPalindrome(s):\n",
    "    i, j = 0, len(s) - 1\n",
    "    while i < j:\n",
    "        while i < j and not s[i].isalnum():\n",
    "            i += 1\n",
    "        while i < j and not s[j].isalnum():\n",
    "            j -= 1\n",
    "        if s[i].lower() != s[j].lower():\n",
    "            return False\n",
    "        i += 1\n",
    "        j -= 1\n",
    "    return True\n",
    "\n",
    "s = \"A man, a plan, a canal: Panama\"\n",
    "isPalindrome(s)"
   ]
  },
  {
   "cell_type": "markdown",
   "id": "53c9a5b6-633e-4083-8644-49ffea4d89b2",
   "metadata": {},
   "source": [
    "#### Q.4."
   ]
  },
  {
   "cell_type": "code",
   "execution_count": 6,
   "id": "11c62cd1-d60f-490a-ae84-619882b83549",
   "metadata": {},
   "outputs": [
    {
     "data": {
      "text/plain": [
       "True"
      ]
     },
     "execution_count": 6,
     "metadata": {},
     "output_type": "execute_result"
    }
   ],
   "source": [
    "def makeEqual(words):\n",
    "    n = len(words)\n",
    "    array = [0] * 26\n",
    "\n",
    "    for word in words:\n",
    "        for c in word:\n",
    "            array[ord(c) - ord('a')] += 1\n",
    "\n",
    "    for fq in array:\n",
    "        if fq % n != 0:\n",
    "            return False\n",
    "\n",
    "    return True\n",
    "\n",
    "words = [\"abc\",\"aabc\",\"bc\"]\n",
    "makeEqual(words)"
   ]
  },
  {
   "cell_type": "markdown",
   "id": "d501321a-24bc-424a-b5e4-c4f917765cf7",
   "metadata": {},
   "source": [
    "#### Q.5."
   ]
  },
  {
   "cell_type": "code",
   "execution_count": 10,
   "id": "91c4844e-f8d4-4fca-b734-c4b25ce53cf1",
   "metadata": {},
   "outputs": [
    {
     "data": {
      "text/plain": [
       "4"
      ]
     },
     "execution_count": 10,
     "metadata": {},
     "output_type": "execute_result"
    }
   ],
   "source": [
    "def balancedStringSplit(s):\n",
    "    res = 0\n",
    "    cnt = 0\n",
    "    for i in range(len(s)):\n",
    "        cnt += 1 if s[i] == 'L' else -1\n",
    "        if cnt == 0:\n",
    "            res += 1\n",
    "    return res\n",
    "\n",
    "s = \"RLRRLLRLRL\"\n",
    "balancedStringSplit(s)"
   ]
  },
  {
   "cell_type": "markdown",
   "id": "d2e77b1e-3bb0-4202-bf19-c9f9edd1d7c0",
   "metadata": {},
   "source": [
    "#### Q.6."
   ]
  },
  {
   "cell_type": "code",
   "execution_count": 3,
   "id": "58e04ab7-6ea1-4905-9ea7-b3b0c6946571",
   "metadata": {},
   "outputs": [
    {
     "name": "stdout",
     "output_type": "stream",
     "text": [
      "holle\n"
     ]
    }
   ],
   "source": [
    "def reverseVowels(s):\n",
    "    vowels = set('aeiouAEIOU')  # Set of vowels\n",
    "    s = list(s)  # Convert string to list of characters\n",
    "    left, right = 0, len(s) - 1  # Initialize pointers\n",
    "\n",
    "    while left < right:\n",
    "        if s[left] in vowels:\n",
    "            while s[right] not in vowels and left < right:\n",
    "                right -= 1\n",
    "            s[left], s[right] = s[right], s[left]\n",
    "            right -= 1\n",
    "        left += 1\n",
    "\n",
    "    return ''.join(s)  # Convert list back to string\n",
    "\n",
    "\n",
    "s = \"hello\"\n",
    "print(reverseVowels(s))\n"
   ]
  },
  {
   "cell_type": "code",
   "execution_count": null,
   "id": "dfc6d9f7-db6e-4dc1-951c-cf0d0a8bb91b",
   "metadata": {},
   "outputs": [],
   "source": []
  }
 ],
 "metadata": {
  "kernelspec": {
   "display_name": "Python 3 (ipykernel)",
   "language": "python",
   "name": "python3"
  },
  "language_info": {
   "codemirror_mode": {
    "name": "ipython",
    "version": 3
   },
   "file_extension": ".py",
   "mimetype": "text/x-python",
   "name": "python",
   "nbconvert_exporter": "python",
   "pygments_lexer": "ipython3",
   "version": "3.10.6"
  }
 },
 "nbformat": 4,
 "nbformat_minor": 5
}
