{
 "cells": [
  {
   "cell_type": "markdown",
   "id": "a4f06f57-4f15-42df-a7fe-5d6f0d651b08",
   "metadata": {},
   "source": [
    "#### Q.1 Delete Node in a Linked List"
   ]
  },
  {
   "cell_type": "code",
   "execution_count": null,
   "id": "8add7636-ea10-45c5-a695-31e6908865f3",
   "metadata": {},
   "outputs": [],
   "source": [
    "class ListNode:\n",
    "    def __init__(self, val=0, next=None):\n",
    "        self.val = val\n",
    "        self.next = next\n",
    "\n",
    "def deleteNode(node):\n",
    "    # Swap values with the next node\n",
    "    node.val = node.next.val\n",
    "    # Skip the next node\n",
    "    node.next = node.next.next\n",
    "\n",
    "# Example usage\n",
    "# Create the linked list [4, 5, 1, 9]\n",
    "head = ListNode(4)\n",
    "head.next = ListNode(5)\n",
    "head.next.next = ListNode(1)\n",
    "head.next.next.next = ListNode(9)\n",
    "\n",
    "# Delete the node with value 5\n",
    "node_to_delete = head.next\n",
    "deleteNode(node_to_delete)\n",
    "\n",
    "# Print the modified linked list\n",
    "current = head\n",
    "while current:\n",
    "    print(current.val, end=\" -> \")\n",
    "    current = current.next\n",
    "print(\"None\")\n"
   ]
  },
  {
   "cell_type": "markdown",
   "id": "7694c543-2be7-4360-bfb4-f83d57533ed4",
   "metadata": {},
   "source": [
    "#### Q.2"
   ]
  },
  {
   "cell_type": "code",
   "execution_count": 1,
   "id": "88e041e6-c756-4058-9f93-4fc9d9a76490",
   "metadata": {},
   "outputs": [
    {
     "name": "stdout",
     "output_type": "stream",
     "text": [
      "1 -> 2 -> 3 -> 4 -> 5 -> None\n"
     ]
    }
   ],
   "source": [
    "class ListNode:\n",
    "    def __init__(self, val=0, next=None):\n",
    "        self.val = val\n",
    "        self.next = next\n",
    "\n",
    "def removeElements(head, val):\n",
    "    # Handle the case when the head itself has the value to be removed\n",
    "    while head and head.val == val:\n",
    "        head = head.next\n",
    "\n",
    "    # Traverse the linked list and remove nodes with the given value\n",
    "    current = head\n",
    "    previous = None\n",
    "\n",
    "    while current:\n",
    "        if current.val == val:\n",
    "            # Skip the current node\n",
    "            previous.next = current.next\n",
    "        else:\n",
    "            previous = current\n",
    "        current = current.next\n",
    "\n",
    "    return head\n",
    "\n",
    "# Example usage\n",
    "# Create the linked list [1, 2, 6, 3, 4, 5, 6]\n",
    "head = ListNode(1)\n",
    "head.next = ListNode(2)\n",
    "head.next.next = ListNode(6)\n",
    "head.next.next.next = ListNode(3)\n",
    "head.next.next.next.next = ListNode(4)\n",
    "head.next.next.next.next.next = ListNode(5)\n",
    "head.next.next.next.next.next.next = ListNode(6)\n",
    "\n",
    "# Remove all nodes with value 6\n",
    "val = 6\n",
    "new_head = removeElements(head, val)\n",
    "\n",
    "# Print the modified linked list\n",
    "current = new_head\n",
    "while current:\n",
    "    print(current.val, end=\" -> \")\n",
    "    current = current.next\n",
    "print(\"None\")\n"
   ]
  },
  {
   "cell_type": "markdown",
   "id": "2263b32a-50dc-402f-9a0e-57fbf6f9239f",
   "metadata": {},
   "source": [
    "#### Q.3."
   ]
  },
  {
   "cell_type": "code",
   "execution_count": 2,
   "id": "57968bd1-f587-400d-8f67-48a6b7d8e1d2",
   "metadata": {},
   "outputs": [
    {
     "name": "stdout",
     "output_type": "stream",
     "text": [
      "5\n",
      "4\n",
      "3\n",
      "2\n",
      "1\n"
     ]
    }
   ],
   "source": [
    "class ListNode:\n",
    "    def __init__(self, val=0, next=None):\n",
    "        self.val = val\n",
    "        self.next = next\n",
    "\n",
    "def reverseLinkedList(head):\n",
    "    previous = None\n",
    "    current = head\n",
    "    while current is not None:\n",
    "        next_node = current.next\n",
    "        current.next = previous\n",
    "        previous = current\n",
    "        current = next_node\n",
    "    return previous\n",
    "\n",
    "# Example 1\n",
    "head = ListNode(1)\n",
    "head.next = ListNode(2)\n",
    "head.next.next = ListNode(3)\n",
    "head.next.next.next = ListNode(4)\n",
    "head.next.next.next.next = ListNode(5)\n",
    "\n",
    "reversed_list = reverseLinkedList(head)\n",
    "\n",
    "# Printing the reversed list\n",
    "while reversed_list is not None:\n",
    "    print(reversed_list.val)\n",
    "    reversed_list = reversed_list.next\n"
   ]
  },
  {
   "cell_type": "code",
   "execution_count": null,
   "id": "94b0794e-b662-4477-a1ba-0a551e6190d5",
   "metadata": {},
   "outputs": [],
   "source": []
  }
 ],
 "metadata": {
  "kernelspec": {
   "display_name": "Python 3 (ipykernel)",
   "language": "python",
   "name": "python3"
  },
  "language_info": {
   "codemirror_mode": {
    "name": "ipython",
    "version": 3
   },
   "file_extension": ".py",
   "mimetype": "text/x-python",
   "name": "python",
   "nbconvert_exporter": "python",
   "pygments_lexer": "ipython3",
   "version": "3.10.6"
  }
 },
 "nbformat": 4,
 "nbformat_minor": 5
}
