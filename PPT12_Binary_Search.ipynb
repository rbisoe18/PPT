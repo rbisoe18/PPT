{
 "cells": [
  {
   "cell_type": "markdown",
   "id": "d086f2ee-433b-4b1e-9d42-2b20c4cde6fa",
   "metadata": {},
   "source": [
    "#### Q.1 Search Element in 2D Matrix"
   ]
  },
  {
   "cell_type": "code",
   "execution_count": 16,
   "id": "8f23f389-910d-4ad6-86cd-5288e9308cef",
   "metadata": {},
   "outputs": [
    {
     "data": {
      "text/plain": [
       "True"
      ]
     },
     "execution_count": 16,
     "metadata": {},
     "output_type": "execute_result"
    }
   ],
   "source": [
    "def searchMatrix(matrix, target):\n",
    "        \n",
    "# Binary Search\n",
    "    row, col = len(matrix), len(matrix[0])\n",
    "    i, j = 0, (row * col) - 1\n",
    "\n",
    "    while i <= j:\n",
    "        mid = (i + j) // 2\n",
    "        mid_element = matrix[mid // col][mid % col] \n",
    "        if mid_element == target:\n",
    "            return True\n",
    "        elif mid_element < target:\n",
    "            i = mid + 1\n",
    "        else:\n",
    "            j = mid - 1\n",
    "    return False\n",
    "\n",
    "matrix = [[1,3,5,7],[10,11,16,20],[23,30,34,60]]\n",
    "target = 3\n",
    "searchMatrix(matrix, target)"
   ]
  },
  {
   "cell_type": "raw",
   "id": "e9d51986-4f7f-4054-b97d-9f295ebb26de",
   "metadata": {},
   "source": [
    "or"
   ]
  },
  {
   "cell_type": "code",
   "execution_count": 6,
   "id": "3a8ae9dd-a8d4-4190-8863-4611f7e014b7",
   "metadata": {},
   "outputs": [
    {
     "name": "stdout",
     "output_type": "stream",
     "text": [
      "1\n",
      "2\n",
      "0\n",
      "1\n",
      "True\n",
      "--------\n",
      "1\n",
      "0\n",
      "2\n",
      "False\n"
     ]
    }
   ],
   "source": [
    "def searchMatrix(matrix, target):\n",
    "    m, n = len(matrix), len(matrix[0])\n",
    "    left, right = 0, m * n - 1\n",
    "\n",
    "    while left <= right:\n",
    "        mid = (left + right) // 2\n",
    "        row = mid // n\n",
    "        col = mid % n\n",
    "        print(col)\n",
    "        mid_element = matrix[row][col]\n",
    "\n",
    "        if mid_element == target:\n",
    "            return True\n",
    "        elif mid_element < target:\n",
    "            left = mid + 1\n",
    "        else:\n",
    "            right = mid - 1\n",
    "\n",
    "    return False\n",
    "\n",
    "matrix = [[1, 3, 5, 7], [10, 11, 16, 20], [23, 30, 34, 60]]\n",
    "target = 3\n",
    "print(searchMatrix(matrix, target))\n",
    "print(\"--------\")\n",
    "target = 13\n",
    "print(searchMatrix(matrix, target))\n"
   ]
  },
  {
   "cell_type": "markdown",
   "id": "95bf1f7f-4d3f-4c37-8dbe-ad66833b139a",
   "metadata": {},
   "source": [
    "#### Q.2. Search Insert element position"
   ]
  },
  {
   "cell_type": "code",
   "execution_count": 15,
   "id": "e7750246-631a-4363-adc9-d3d111bc96db",
   "metadata": {},
   "outputs": [
    {
     "name": "stdout",
     "output_type": "stream",
     "text": [
      "2\n",
      "---------\n",
      "1\n",
      "---------\n",
      "4\n"
     ]
    }
   ],
   "source": [
    "def searchInsert(nums, target):\n",
    "    left = 0\n",
    "    right = len(nums) - 1\n",
    "\n",
    "    while left <= right:\n",
    "        mid = (left + right) // 2\n",
    "\n",
    "        if nums[mid] == target:\n",
    "            return mid\n",
    "        elif nums[mid] < target:\n",
    "            left = mid + 1\n",
    "        else:\n",
    "            right = mid - 1\n",
    "\n",
    "    return left\n",
    "\n",
    "print(searchInsert([1, 3, 5, 6], 5))\n",
    "print(\"---------\")\n",
    "print(searchInsert([1, 3, 5, 6], 2))\n",
    "print(\"---------\")\n",
    "print(searchInsert([1, 3, 5, 6], 7))"
   ]
  },
  {
   "cell_type": "markdown",
   "id": "d4566189-0a7f-417b-9614-e9a52c76c9c9",
   "metadata": {},
   "source": [
    "#### Q.3"
   ]
  },
  {
   "cell_type": "code",
   "execution_count": 17,
   "id": "340a8124-57a6-45a7-af1b-0ac3c93e32c8",
   "metadata": {},
   "outputs": [
    {
     "name": "stdout",
     "output_type": "stream",
     "text": [
      "4\n",
      "-----\n",
      "-1\n",
      "-----\n",
      "-1\n"
     ]
    }
   ],
   "source": [
    "def search(nums, target):\n",
    "    n = len(nums)\n",
    "    left, right = 0, n - 1\n",
    "\n",
    "    while left <= right:\n",
    "        mid = (left + right) // 2\n",
    "\n",
    "        if nums[mid] == target:\n",
    "            return mid\n",
    "\n",
    "        if nums[left] <= nums[mid]:\n",
    "            if nums[left] <= target <= nums[mid]:\n",
    "                right = mid - 1\n",
    "            else:\n",
    "                left = mid + 1\n",
    "        else:\n",
    "            if nums[mid] <= target <= nums[right]:\n",
    "                left = mid + 1\n",
    "            else:\n",
    "                right = mid - 1\n",
    "\n",
    "    return -1\n",
    "\n",
    "print(search([4,5,6,7,0,1,2], 0))\n",
    "print(\"-----\")\n",
    "print(search([4,5,6,7,0,1,2], 3))\n",
    "print(\"-----\")\n",
    "print(search([1], 0))"
   ]
  },
  {
   "cell_type": "code",
   "execution_count": null,
   "id": "5ac91d0e-a024-4fed-95a2-09678dd884d1",
   "metadata": {},
   "outputs": [],
   "source": []
  }
 ],
 "metadata": {
  "kernelspec": {
   "display_name": "Python 3 (ipykernel)",
   "language": "python",
   "name": "python3"
  },
  "language_info": {
   "codemirror_mode": {
    "name": "ipython",
    "version": 3
   },
   "file_extension": ".py",
   "mimetype": "text/x-python",
   "name": "python",
   "nbconvert_exporter": "python",
   "pygments_lexer": "ipython3",
   "version": "3.10.6"
  }
 },
 "nbformat": 4,
 "nbformat_minor": 5
}
