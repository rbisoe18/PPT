{
 "cells": [
  {
   "cell_type": "markdown",
   "id": "afc3bcb7-ed97-4012-a667-4b8744e8c5fc",
   "metadata": {},
   "source": [
    "#### Q. 1."
   ]
  },
  {
   "cell_type": "code",
   "execution_count": 3,
   "id": "5fcc870f-cb66-4175-9eee-4643df54b65a",
   "metadata": {},
   "outputs": [
    {
     "data": {
      "text/plain": [
       "1024"
      ]
     },
     "execution_count": 3,
     "metadata": {},
     "output_type": "execute_result"
    }
   ],
   "source": [
    "def pow(x, n):\n",
    "    if n == 0:\n",
    "        return 1\n",
    "    if n < 0:\n",
    "        n = -n\n",
    "        x = 1 / x\n",
    "    return x * pow(x * x, n // 2) if n % 2 else pow(x * x, n // 2)\n",
    "\n",
    "pow(2,10)"
   ]
  },
  {
   "cell_type": "markdown",
   "id": "325c4733-e6af-4440-96e6-bf9ea5769a4a",
   "metadata": {},
   "source": [
    "#### Q. 2."
   ]
  },
  {
   "cell_type": "code",
   "execution_count": 4,
   "id": "56434772-b287-480a-a827-1192d42bea9b",
   "metadata": {},
   "outputs": [],
   "source": [
    "def per(nums):\n",
    "    i = len(nums) - 2\n",
    "    j = len(nums) - 1\n",
    "\n",
    "    while nums[i] < nums[i + 1] and i >= 0:\n",
    "        i -= 1\n",
    "    if i >= 0:\n",
    "        while nums[j] <= nums[i]:\n",
    "            j -= 1\n",
    "        nums[i], nums[j] = nums[j], nums[i]\n",
    "    reverse(nums, i + 1)\n",
    "def reverse(nums, start):\n",
    "    i, j = start, len(nums) - 1\n",
    "    while i < j:\n",
    "        nums[i], nums[j] = nums[j], nums[i]\n",
    "        i += 1\n",
    "        j -= 1  \n",
    "    \n",
    "per([1,2,3])\n",
    "reverse([1,2,3],0)"
   ]
  },
  {
   "cell_type": "markdown",
   "id": "c83707a2-4830-44cf-9f68-1b9bfc8206ad",
   "metadata": {},
   "source": [
    "#### Q. 3"
   ]
  },
  {
   "cell_type": "code",
   "execution_count": 6,
   "id": "790c8a62-e1ad-434d-b7c5-79f8edb1423c",
   "metadata": {},
   "outputs": [
    {
     "name": "stdout",
     "output_type": "stream",
     "text": [
      "True\n"
     ]
    }
   ],
   "source": [
    "def find_pair(arr, x):\n",
    "    n = len(arr)\n",
    "    # find pivot element\n",
    "    pivot = 0\n",
    "    for i in range(n - 1):\n",
    "        if arr[i] > arr[i + 1]:\n",
    "            pivot = i + 1\n",
    "            break\n",
    "    left = pivot\n",
    "    right = pivot - 1\n",
    "    while left != right:\n",
    "        if arr[left] + arr[right] == x:\n",
    "            return True\n",
    "        elif arr[left] + arr[right] < x:\n",
    "            left = (left + 1) % n\n",
    "        else:\n",
    "            right = (right - 1 + n) % n\n",
    "    return False\n",
    " \n",
    "arr = [11, 15, 6, 8, 9, 10]\n",
    "sum = 16\n",
    "print(find_pair(arr, sum))"
   ]
  },
  {
   "cell_type": "markdown",
   "id": "4f86b300-21d2-430d-ad4c-0a8ddd596b3c",
   "metadata": {},
   "source": [
    "#### Q. 4"
   ]
  },
  {
   "cell_type": "code",
   "execution_count": null,
   "id": "fa269f87-08f9-4cc2-bd00-4c6e464d5992",
   "metadata": {},
   "outputs": [],
   "source": [
    "def sortedd(nums):\n",
    "    p0 = 0\n",
    "    curr = 0\n",
    "    p2 = len(nums) - 1\n",
    " \n",
    "    while curr <= p2:\n",
    "        if nums[curr] == 0:\n",
    "            nums[p0], nums[curr] = nums[curr], nums[p0]\n",
    "            p0 += 1\n",
    "            curr += 1\n",
    "        elif nums[curr] == 2:\n",
    "            nums[curr], nums[p2] = nums[p2], nums[curr]\n",
    "            p2 -= 1\n",
    "        else:\n",
    "            curr += 1\n",
    "\n",
    "sortedd([[2,0,2,1,1,0]])\n",
    "    "
   ]
  },
  {
   "cell_type": "markdown",
   "id": "3de78e2c-3493-4a63-80ae-053bee56e387",
   "metadata": {},
   "source": [
    "#### Q. 5."
   ]
  },
  {
   "cell_type": "code",
   "execution_count": 3,
   "id": "cf66f4ba-b7b0-43bb-b343-363283a03927",
   "metadata": {},
   "outputs": [],
   "source": [
    "def rotate(nums, k):\n",
    "    k %= len(nums)\n",
    "    reverse(nums, 0, len(nums) - 1)\n",
    "    \n",
    "def reverse(nums, start, end):\n",
    "    while start < end:\n",
    "        nums[start], nums[end] = nums[end], nums[start]\n",
    "        start += 1\n",
    "        end -= 1\n",
    "    \n",
    "rotate([1,2,3,4,5,6,7],3)"
   ]
  },
  {
   "cell_type": "markdown",
   "id": "e6ea8c0a-0da4-4fd2-9ae7-53d277fda0fa",
   "metadata": {},
   "source": [
    "#### Q. 6."
   ]
  },
  {
   "cell_type": "code",
   "execution_count": 2,
   "id": "a96bcac0-7669-43ac-8703-df8f6f79a625",
   "metadata": {},
   "outputs": [
    {
     "data": {
      "text/plain": [
       "3"
      ]
     },
     "execution_count": 2,
     "metadata": {},
     "output_type": "execute_result"
    }
   ],
   "source": [
    "def counts(nums):\n",
    "    count = 0\n",
    "    maxcount = 0\n",
    "    for i in range(len(nums)):\n",
    "        if nums[i] == 1:\n",
    "            count += 1\n",
    "        else:\n",
    "            maxcount = max(maxcount,count)\n",
    "            count = 0\n",
    "    return max(maxcount,count)\n",
    "\n",
    "counts([1,1,0,1,1,1])"
   ]
  },
  {
   "cell_type": "code",
   "execution_count": null,
   "id": "ee50325c-b82a-4c1d-a43e-78f0e1faca39",
   "metadata": {},
   "outputs": [],
   "source": []
  }
 ],
 "metadata": {
  "kernelspec": {
   "display_name": "Python 3 (ipykernel)",
   "language": "python",
   "name": "python3"
  },
  "language_info": {
   "codemirror_mode": {
    "name": "ipython",
    "version": 3
   },
   "file_extension": ".py",
   "mimetype": "text/x-python",
   "name": "python",
   "nbconvert_exporter": "python",
   "pygments_lexer": "ipython3",
   "version": "3.10.6"
  }
 },
 "nbformat": 4,
 "nbformat_minor": 5
}
