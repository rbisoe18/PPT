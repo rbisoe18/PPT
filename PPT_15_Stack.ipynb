{
 "cells": [
  {
   "cell_type": "markdown",
   "id": "c663d24a-d523-4ca4-b030-e1f84977301a",
   "metadata": {},
   "source": [
    "#### Q.1"
   ]
  },
  {
   "cell_type": "code",
   "execution_count": 15,
   "id": "8a3b7360-6b19-4681-8e1b-2003c6607977",
   "metadata": {},
   "outputs": [
    {
     "name": "stdout",
     "output_type": "stream",
     "text": [
      "True\n",
      "------\n",
      "True\n",
      "------\n",
      "False\n"
     ]
    }
   ],
   "source": [
    "def is_valid_string(s):\n",
    "    stack = []\n",
    "    opening_brackets = {'(', '[', '{'}\n",
    "    matching_pairs = {')': '(', ']': '[', '}': '{'}\n",
    "    \n",
    "    for char in s:\n",
    "        if char in opening_brackets:\n",
    "            stack.append(char)\n",
    "        else:\n",
    "            if not stack or stack[-1] != matching_pairs[char]:\n",
    "                return False\n",
    "            stack.pop()\n",
    "    \n",
    "    return len(stack) == 0\n",
    "\n",
    "print(is_valid_string(\"()\"))\n",
    "print(\"------\")\n",
    "print(is_valid_string(\"()[]{}\"))\n",
    "print(\"------\")\n",
    "print(is_valid_string(\"(]\"))\n"
   ]
  },
  {
   "cell_type": "markdown",
   "id": "7fb20d9b-642e-43d4-a150-114dc542a37e",
   "metadata": {},
   "source": [
    "#### Q.2"
   ]
  },
  {
   "cell_type": "code",
   "execution_count": 20,
   "id": "48bf45f9-c8a7-4580-97d2-6b2ac77d88d2",
   "metadata": {},
   "outputs": [
    {
     "name": "stdout",
     "output_type": "stream",
     "text": [
      "leetcode\n",
      "----------\n",
      "\n",
      "----------\n",
      "s\n"
     ]
    }
   ],
   "source": [
    "def make_good_string(s):\n",
    "    stack = []\n",
    "    \n",
    "    for char in s:\n",
    "        if stack and abs(ord(char) - ord(stack[-1])) == 32:\n",
    "            stack.pop()\n",
    "        else:\n",
    "            stack.append(char)\n",
    "    \n",
    "    return ''.join(stack)\n",
    "\n",
    "print(make_good_string(\"leEeetcode\"))\n",
    "print(\"----------\")\n",
    "print(make_good_string(\"abBAcC\"))\n",
    "print(\"----------\")\n",
    "print(make_good_string(\"s\"))"
   ]
  },
  {
   "cell_type": "markdown",
   "id": "ba7c9ea9-7e70-4eab-a19f-c157cbd420dd",
   "metadata": {},
   "source": [
    "#### Q.3"
   ]
  },
  {
   "cell_type": "code",
   "execution_count": 22,
   "id": "6c09e9d1-f1f9-4e35-b4e5-c09e9791c80e",
   "metadata": {},
   "outputs": [
    {
     "name": "stdout",
     "output_type": "stream",
     "text": [
      "ca\n",
      "--\n",
      "ay\n"
     ]
    }
   ],
   "source": [
    "def remove_duplicates(s):\n",
    "    stack = []\n",
    "    \n",
    "    for char in s:\n",
    "        if stack and stack[-1] == char:\n",
    "            stack.pop()\n",
    "        else:\n",
    "            stack.append(char)\n",
    "    \n",
    "    return ''.join(stack)\n",
    "\n",
    "print(remove_duplicates(\"abbaca\"))\n",
    "print(\"--\")\n",
    "print(remove_duplicates(\"azxxzy\"))"
   ]
  },
  {
   "cell_type": "code",
   "execution_count": null,
   "id": "51bd21f5-b1d5-4387-8b1d-e7ba084e339a",
   "metadata": {},
   "outputs": [],
   "source": []
  }
 ],
 "metadata": {
  "kernelspec": {
   "display_name": "Python 3 (ipykernel)",
   "language": "python",
   "name": "python3"
  },
  "language_info": {
   "codemirror_mode": {
    "name": "ipython",
    "version": 3
   },
   "file_extension": ".py",
   "mimetype": "text/x-python",
   "name": "python",
   "nbconvert_exporter": "python",
   "pygments_lexer": "ipython3",
   "version": "3.10.6"
  }
 },
 "nbformat": 4,
 "nbformat_minor": 5
}
